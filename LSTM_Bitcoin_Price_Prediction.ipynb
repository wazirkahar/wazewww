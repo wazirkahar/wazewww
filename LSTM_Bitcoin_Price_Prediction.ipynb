{
  "nbformat": 4,
  "nbformat_minor": 0,
  "metadata": {
    "colab": {
      "name": "LSTM Bitcoin Price Prediction.ipynb",
      "provenance": []
    },
    "kernelspec": {
      "name": "python3",
      "display_name": "Python 3"
    },
    "accelerator": "GPU"
  },
  "cells": [
    {
      "cell_type": "code",
      "metadata": {
        "id": "Pwk7UuDp8Jmr",
        "colab_type": "code",
        "outputId": "4f7b3029-801f-4994-af66-ea9b2c3b2598",
        "colab": {
          "base_uri": "https://localhost:8080/",
          "height": 34
        }
      },
      "source": [
        "%tensorflow_version 2.x\n",
        "import tensorflow as tf\n",
        "import os\n",
        "import pandas as pd\n",
        "import numpy as np\n",
        "import matplotlib.pyplot as plt"
      ],
      "execution_count": 0,
      "outputs": [
        {
          "output_type": "stream",
          "text": [
            "TensorFlow 2.x selected.\n"
          ],
          "name": "stdout"
        }
      ]
    },
    {
      "cell_type": "code",
      "metadata": {
        "id": "guIpwVd_8PZB",
        "colab_type": "code",
        "colab": {}
      },
      "source": [
        "url = 'https://raw.githubusercontent.com/WianStipp/LSTM-For-Price-Prediction/master/data/ETHEUR.csv'\n",
        "dataframe = pd.read_csv(url, header=None, index_col=0)"
      ],
      "execution_count": 0,
      "outputs": []
    },
    {
      "cell_type": "code",
      "metadata": {
        "id": "GW6KKDbf8Wx8",
        "colab_type": "code",
        "outputId": "7a454149-4890-4e57-ce5d-caab7ce9bac8",
        "colab": {
          "base_uri": "https://localhost:8080/",
          "height": 34
        }
      },
      "source": [
        "device_name = tf.test.gpu_device_name()\n",
        "if device_name != '/device:GPU:0':\n",
        "  raise SystemError('GPU device not found')\n",
        "print('Found GPU at: {}'.format(device_name))"
      ],
      "execution_count": 0,
      "outputs": [
        {
          "output_type": "stream",
          "text": [
            "Found GPU at: /device:GPU:0\n"
          ],
          "name": "stdout"
        }
      ]
    },
    {
      "cell_type": "code",
      "metadata": {
        "id": "sSkKg_Ws8cF6",
        "colab_type": "code",
        "outputId": "1a120dc1-d3d7-46fa-b0f8-75af78a6ae20",
        "colab": {
          "base_uri": "https://localhost:8080/",
          "height": 34
        }
      },
      "source": [
        "dataframe.shape"
      ],
      "execution_count": 0,
      "outputs": [
        {
          "output_type": "execute_result",
          "data": {
            "text/plain": [
              "(21703, 1)"
            ]
          },
          "metadata": {
            "tags": []
          },
          "execution_count": 4
        }
      ]
    },
    {
      "cell_type": "code",
      "metadata": {
        "id": "DE19M0PX8i55",
        "colab_type": "code",
        "outputId": "afd47eea-7877-4e51-cf46-1c84aa0ad495",
        "colab": {
          "base_uri": "https://localhost:8080/",
          "height": 235
        }
      },
      "source": [
        "dataframe.head()"
      ],
      "execution_count": 0,
      "outputs": [
        {
          "output_type": "execute_result",
          "data": {
            "text/html": [
              "<div>\n",
              "<style scoped>\n",
              "    .dataframe tbody tr th:only-of-type {\n",
              "        vertical-align: middle;\n",
              "    }\n",
              "\n",
              "    .dataframe tbody tr th {\n",
              "        vertical-align: top;\n",
              "    }\n",
              "\n",
              "    .dataframe thead th {\n",
              "        text-align: right;\n",
              "    }\n",
              "</style>\n",
              "<table border=\"1\" class=\"dataframe\">\n",
              "  <thead>\n",
              "    <tr style=\"text-align: right;\">\n",
              "      <th></th>\n",
              "      <th>1</th>\n",
              "    </tr>\n",
              "    <tr>\n",
              "      <th>0</th>\n",
              "      <th></th>\n",
              "    </tr>\n",
              "  </thead>\n",
              "  <tbody>\n",
              "    <tr>\n",
              "      <th>2017-05-30 23:00:00</th>\n",
              "      <td>196.50</td>\n",
              "    </tr>\n",
              "    <tr>\n",
              "      <th>2017-05-31 00:00:00</th>\n",
              "      <td>201.49</td>\n",
              "    </tr>\n",
              "    <tr>\n",
              "      <th>2017-05-31 01:00:00</th>\n",
              "      <td>206.11</td>\n",
              "    </tr>\n",
              "    <tr>\n",
              "      <th>2017-05-31 02:00:00</th>\n",
              "      <td>207.09</td>\n",
              "    </tr>\n",
              "    <tr>\n",
              "      <th>2017-05-31 03:00:00</th>\n",
              "      <td>205.50</td>\n",
              "    </tr>\n",
              "  </tbody>\n",
              "</table>\n",
              "</div>"
            ],
            "text/plain": [
              "                          1\n",
              "0                          \n",
              "2017-05-30 23:00:00  196.50\n",
              "2017-05-31 00:00:00  201.49\n",
              "2017-05-31 01:00:00  206.11\n",
              "2017-05-31 02:00:00  207.09\n",
              "2017-05-31 03:00:00  205.50"
            ]
          },
          "metadata": {
            "tags": []
          },
          "execution_count": 5
        }
      ]
    },
    {
      "cell_type": "code",
      "metadata": {
        "id": "g4ZIstz38lc2",
        "colab_type": "code",
        "colab": {}
      },
      "source": [
        "dataframe = dataframe.rename(columns = {1:\"open\"})\n",
        "dataframe['datetime'] = pd.to_datetime(dataframe.index)\n",
        "dataframe = dataframe.set_index('datetime')"
      ],
      "execution_count": 0,
      "outputs": []
    },
    {
      "cell_type": "code",
      "metadata": {
        "id": "yGtUfWtY8-gj",
        "colab_type": "code",
        "outputId": "8e829d1c-e815-4d9f-bf77-8ed27f0cccf6",
        "colab": {
          "base_uri": "https://localhost:8080/",
          "height": 235
        }
      },
      "source": [
        "dataframe.head()"
      ],
      "execution_count": 0,
      "outputs": [
        {
          "output_type": "execute_result",
          "data": {
            "text/html": [
              "<div>\n",
              "<style scoped>\n",
              "    .dataframe tbody tr th:only-of-type {\n",
              "        vertical-align: middle;\n",
              "    }\n",
              "\n",
              "    .dataframe tbody tr th {\n",
              "        vertical-align: top;\n",
              "    }\n",
              "\n",
              "    .dataframe thead th {\n",
              "        text-align: right;\n",
              "    }\n",
              "</style>\n",
              "<table border=\"1\" class=\"dataframe\">\n",
              "  <thead>\n",
              "    <tr style=\"text-align: right;\">\n",
              "      <th></th>\n",
              "      <th>open</th>\n",
              "    </tr>\n",
              "    <tr>\n",
              "      <th>datetime</th>\n",
              "      <th></th>\n",
              "    </tr>\n",
              "  </thead>\n",
              "  <tbody>\n",
              "    <tr>\n",
              "      <th>2017-05-30 23:00:00</th>\n",
              "      <td>196.50</td>\n",
              "    </tr>\n",
              "    <tr>\n",
              "      <th>2017-05-31 00:00:00</th>\n",
              "      <td>201.49</td>\n",
              "    </tr>\n",
              "    <tr>\n",
              "      <th>2017-05-31 01:00:00</th>\n",
              "      <td>206.11</td>\n",
              "    </tr>\n",
              "    <tr>\n",
              "      <th>2017-05-31 02:00:00</th>\n",
              "      <td>207.09</td>\n",
              "    </tr>\n",
              "    <tr>\n",
              "      <th>2017-05-31 03:00:00</th>\n",
              "      <td>205.50</td>\n",
              "    </tr>\n",
              "  </tbody>\n",
              "</table>\n",
              "</div>"
            ],
            "text/plain": [
              "                       open\n",
              "datetime                   \n",
              "2017-05-30 23:00:00  196.50\n",
              "2017-05-31 00:00:00  201.49\n",
              "2017-05-31 01:00:00  206.11\n",
              "2017-05-31 02:00:00  207.09\n",
              "2017-05-31 03:00:00  205.50"
            ]
          },
          "metadata": {
            "tags": []
          },
          "execution_count": 7
        }
      ]
    },
    {
      "cell_type": "code",
      "metadata": {
        "id": "q9-S_R-B9Hec",
        "colab_type": "code",
        "outputId": "87fc917c-c064-4d55-e1f3-c700515a6614",
        "colab": {
          "base_uri": "https://localhost:8080/",
          "height": 308
        }
      },
      "source": [
        "dataframe.plot()"
      ],
      "execution_count": 0,
      "outputs": [
        {
          "output_type": "execute_result",
          "data": {
            "text/plain": [
              "<matplotlib.axes._subplots.AxesSubplot at 0x7f1c5abbbdd8>"
            ]
          },
          "metadata": {
            "tags": []
          },
          "execution_count": 8
        },
        {
          "output_type": "display_data",
          "data": {
            "image/png": "[encoded data removed]",
            "text/plain": [
              "<Figure size 432x288 with 1 Axes>"
            ]
          },
          "metadata": {
            "tags": []
          }
        }
      ]
    },
    {
      "cell_type": "code",
      "metadata": {
        "id": "vVStjNb49U4L",
        "colab_type": "code",
        "outputId": "f2787992-4ed0-4864-88c1-3c8630a6bf32",
        "colab": {
          "base_uri": "https://localhost:8080/",
          "height": 507
        }
      },
      "source": [
        "dataframe_pct = (dataframe /dataframe.shift(1) - 1)\n",
        "dataframe_pct = dataframe_pct.dropna()\n",
        "dataframe_pct.plot()\n",
        "\n",
        "dataframe_pct.head()"
      ],
      "execution_count": 0,
      "outputs": [
        {
          "output_type": "execute_result",
          "data": {
            "text/html": [
              "<div>\n",
              "<style scoped>\n",
              "    .dataframe tbody tr th:only-of-type {\n",
              "        vertical-align: middle;\n",
              "    }\n",
              "\n",
              "    .dataframe tbody tr th {\n",
              "        vertical-align: top;\n",
              "    }\n",
              "\n",
              "    .dataframe thead th {\n",
              "        text-align: right;\n",
              "    }\n",
              "</style>\n",
              "<table border=\"1\" class=\"dataframe\">\n",
              "  <thead>\n",
              "    <tr style=\"text-align: right;\">\n",
              "      <th></th>\n",
              "      <th>open</th>\n",
              "    </tr>\n",
              "    <tr>\n",
              "      <th>datetime</th>\n",
              "      <th></th>\n",
              "    </tr>\n",
              "  </thead>\n",
              "  <tbody>\n",
              "    <tr>\n",
              "      <th>2017-05-31 00:00:00</th>\n",
              "      <td>0.025394</td>\n",
              "    </tr>\n",
              "    <tr>\n",
              "      <th>2017-05-31 01:00:00</th>\n",
              "      <td>0.022929</td>\n",
              "    </tr>\n",
              "    <tr>\n",
              "      <th>2017-05-31 02:00:00</th>\n",
              "      <td>0.004755</td>\n",
              "    </tr>\n",
              "    <tr>\n",
              "      <th>2017-05-31 03:00:00</th>\n",
              "      <td>-0.007678</td>\n",
              "    </tr>\n",
              "    <tr>\n",
              "      <th>2017-05-31 04:00:00</th>\n",
              "      <td>0.000535</td>\n",
              "    </tr>\n",
              "  </tbody>\n",
              "</table>\n",
              "</div>"
            ],
            "text/plain": [
              "                         open\n",
              "datetime                     \n",
              "2017-05-31 00:00:00  0.025394\n",
              "2017-05-31 01:00:00  0.022929\n",
              "2017-05-31 02:00:00  0.004755\n",
              "2017-05-31 03:00:00 -0.007678\n",
              "2017-05-31 04:00:00  0.000535"
            ]
          },
          "metadata": {
            "tags": []
          },
          "execution_count": 41
        },
        {
          "output_type": "display_data",
          "data": {
            "image/png": "[encoded data removed]",
            "text/plain": [
              "<Figure size 432x288 with 1 Axes>"
            ]
          },
          "metadata": {
            "tags": []
          }
        }
      ]
    },
    {
      "cell_type": "code",
      "metadata": {
        "id": "P7aTPurs-Wc7",
        "colab_type": "code",
        "colab": {}
      },
      "source": [
        "\n",
        "def univariate_data(dataset, start_index, end_index, history_size, target_size):\n",
        "  data = []\n",
        "  labels = []\n",
        "\n",
        "  start_index = start_index + history_size\n",
        "  if end_index is None:\n",
        "    end_index = len(dataset) - target_size\n",
        "\n",
        "  for i in range(start_index, end_index):\n",
        "    indices = range(i-history_size, i)\n",
        "    # Reshape data from (history_size,) to (history_size, 1)\n",
        "    data.append(np.reshape(dataset[indices], (history_size, 1)))\n",
        "    labels.append(dataset[i+target_size])\n",
        "  return np.array(data), np.array(labels)"
      ],
      "execution_count": 0,
      "outputs": []
    },
    {
      "cell_type": "code",
      "metadata": {
        "id": "8CG86zNb-9x-",
        "colab_type": "code",
        "outputId": "91b8e951-ca38-41d4-d1d0-2cca8e1faa4f",
        "colab": {
          "base_uri": "https://localhost:8080/",
          "height": 35
        }
      },
      "source": [
        "TRAIN_SPLIT = dataframe_pct.shape[0] * 0.9\n",
        "TRAIN_SPLIT = round(TRAIN_SPLIT)\n",
        "print(TRAIN_SPLIT)"
      ],
      "execution_count": 0,
      "outputs": [
        {
          "output_type": "stream",
          "text": [
            "19532\n"
          ],
          "name": "stdout"
        }
      ]
    },
    {
      "cell_type": "code",
      "metadata": {
        "id": "r-6vTnME_IWy",
        "colab_type": "code",
        "colab": {}
      },
      "source": [
        "tf.random.set_seed(13)"
      ],
      "execution_count": 0,
      "outputs": []
    },
    {
      "cell_type": "code",
      "metadata": {
        "id": "fzTR0xIP_MPK",
        "colab_type": "code",
        "colab": {}
      },
      "source": [
        "data = dataframe_pct.values"
      ],
      "execution_count": 0,
      "outputs": []
    },
    {
      "cell_type": "code",
      "metadata": {
        "id": "SL2APuZ6_RHB",
        "colab_type": "code",
        "colab": {}
      },
      "source": [
        "past_history = 40\n",
        "future_target = 0\n",
        "\n",
        "X_train , y_train = univariate_data(data, 0, TRAIN_SPLIT, past_history, future_target)\n",
        "\n",
        "X_val, y_val = univariate_data(data, TRAIN_SPLIT, None, past_history, future_target)\n",
        "\n"
      ],
      "execution_count": 0,
      "outputs": []
    },
    {
      "cell_type": "code",
      "metadata": {
        "id": "guUYAttKAdA4",
        "colab_type": "code",
        "outputId": "af3c359f-fab1-46c3-835c-867099c72bd1",
        "colab": {
          "base_uri": "https://localhost:8080/",
          "height": 35
        }
      },
      "source": [
        "print(X_train.shape,\"<- X, Y-> \", y_train.shape)\n"
      ],
      "execution_count": 0,
      "outputs": [
        {
          "output_type": "stream",
          "text": [
            "(19492, 40, 1) <- X, Y->  (19492, 1)\n"
          ],
          "name": "stdout"
        }
      ]
    },
    {
      "cell_type": "code",
      "metadata": {
        "id": "Z3Drl41nAegW",
        "colab_type": "code",
        "outputId": "819e640a-b36d-41a2-ba69-bb1563096452",
        "colab": {
          "base_uri": "https://localhost:8080/",
          "height": 711
        }
      },
      "source": [
        "print(X_train[0])"
      ],
      "execution_count": 0,
      "outputs": [
        {
          "output_type": "stream",
          "text": [
            "[[ 2.53944020e-02]\n",
            " [ 2.29291776e-02]\n",
            " [ 4.75474261e-03]\n",
            " [-7.67782124e-03]\n",
            " [ 5.35279805e-04]\n",
            " [-5.34993434e-04]\n",
            " [-2.67639903e-02]\n",
            " [-2.06500000e-02]\n",
            " [ 1.08745597e-02]\n",
            " [ 1.42929293e-02]\n",
            " [ 1.74276751e-03]\n",
            " [ 3.08181728e-03]\n",
            " [-4.95540139e-04]\n",
            " [ 3.05404065e-02]\n",
            " [-1.36149331e-02]\n",
            " [ 1.19006975e-02]\n",
            " [-4.19337736e-03]\n",
            " [-2.22168441e-02]\n",
            " [-7.57388248e-03]\n",
            " [-4.88826816e-03]\n",
            " [ 3.95989975e-03]\n",
            " [ 1.70752409e-02]\n",
            " [ 7.85430269e-04]\n",
            " [-1.81488203e-03]\n",
            " [ 7.37100737e-03]\n",
            " [-4.04878049e-03]\n",
            " [-4.89787922e-05]\n",
            " [ 2.35109718e-03]\n",
            " [ 1.37314308e-02]\n",
            " [ 5.68811762e-03]\n",
            " [-4.93696976e-03]\n",
            " [ 1.92678227e-03]\n",
            " [ 1.44230769e-02]\n",
            " [-1.89099526e-02]\n",
            " [-4.83068451e-04]\n",
            " [-4.34971727e-03]\n",
            " [ 1.30576186e-02]\n",
            " [-1.22664111e-02]\n",
            " [-5.48171146e-03]\n",
            " [-2.48768353e-03]]\n"
          ],
          "name": "stdout"
        }
      ]
    },
    {
      "cell_type": "code",
      "metadata": {
        "id": "0dhlF8XyCYmE",
        "colab_type": "code",
        "colab": {}
      },
      "source": [
        "def create_time_steps(length):\n",
        "  time_steps = []\n",
        "  for i in range(-length, 0, 1):\n",
        "    time_steps.append(i)\n",
        "\n",
        "  return time_steps"
      ],
      "execution_count": 0,
      "outputs": []
    },
    {
      "cell_type": "code",
      "metadata": {
        "id": "tmcm_Sl0DXov",
        "colab_type": "code",
        "colab": {}
      },
      "source": [
        "def show_plot(plot_data, delta, title):\n",
        "  labels = ['History', 'True Future', 'Model Prediction']\n",
        "  marker = ['.-', 'rx', 'go']\n",
        "  time_steps = create_time_steps(plot_data[0].shape[0])\n",
        "  if delta:\n",
        "    future = delta\n",
        "  else:\n",
        "    future = 0\n",
        "\n",
        "  plt.title(title)\n",
        "  for i, x in enumerate(plot_data):\n",
        "    if i:\n",
        "      plt.plot(future, plot_data[i], marker[i], markersize=10,\n",
        "               label=labels[i])\n",
        "    else:\n",
        "      plt.plot(time_steps, plot_data[i].flatten(), marker[i], label=labels[i])\n",
        "  plt.legend()\n",
        "  plt.xlim([time_steps[0], (future+5)*2])\n",
        "  plt.xlabel('Time-Step')\n",
        "  plt.show()\n",
        "  return plt"
      ],
      "execution_count": 0,
      "outputs": []
    },
    {
      "cell_type": "code",
      "metadata": {
        "id": "ACZZikpUDfl6",
        "colab_type": "code",
        "outputId": "04247400-d069-4390-d367-7a0eb0fe1d88",
        "colab": {
          "base_uri": "https://localhost:8080/",
          "height": 295
        }
      },
      "source": [
        "show_plot([X_train[0], y_train[0]], 0, 'Sample Example')\n",
        "plt.show()"
      ],
      "execution_count": 0,
      "outputs": [
        {
          "output_type": "display_data",
          "data": {
            "image/png": "[encoded data removed]",
            "text/plain": [
              "<Figure size 432x288 with 1 Axes>"
            ]
          },
          "metadata": {
            "tags": []
          }
        }
      ]
    },
    {
      "cell_type": "code",
      "metadata": {
        "id": "eejJqBLJD3kX",
        "colab_type": "code",
        "colab": {}
      },
      "source": [
        "def baseline(history):\n",
        "  return np.mean(history)"
      ],
      "execution_count": 0,
      "outputs": []
    },
    {
      "cell_type": "code",
      "metadata": {
        "id": "as8EEavqD9ph",
        "colab_type": "code",
        "outputId": "7c69b40e-7b4f-45a8-f46d-fa76d8d6c865",
        "colab": {
          "base_uri": "https://localhost:8080/",
          "height": 313
        }
      },
      "source": [
        "show_plot([X_train[1], y_train[1], baseline(X_train[1])], 0 ,'Baseline Prediction')"
      ],
      "execution_count": 0,
      "outputs": [
        {
          "output_type": "display_data",
          "data": {
            "image/png": "[encoded data removed]",
            "text/plain": [
              "<Figure size 432x288 with 1 Axes>"
            ]
          },
          "metadata": {
            "tags": []
          }
        },
        {
          "output_type": "execute_result",
          "data": {
            "text/plain": [
              "<module 'matplotlib.pyplot' from '/usr/local/lib/python3.6/dist-packages/matplotlib/pyplot.py'>"
            ]
          },
          "metadata": {
            "tags": []
          },
          "execution_count": 53
        }
      ]
    },
    {
      "cell_type": "code",
      "metadata": {
        "id": "R4pPUyi8ENjW",
        "colab_type": "code",
        "colab": {}
      },
      "source": [
        "BATCH_SIZE = 512\n",
        "BUFFER_SIZE = 10000\n",
        "\n",
        "train_tensor = tf.data.Dataset.from_tensor_slices((X_train, y_train))\n",
        "train_tensor = train_tensor.cache().shuffle(BUFFER_SIZE).batch(BATCH_SIZE).repeat()\n",
        "\n",
        "val_tensor = tf.data.Dataset.from_tensor_slices((X_val, y_val))\n",
        "val_tensor = val_tensor.batch(BATCH_SIZE).repeat()"
      ],
      "execution_count": 0,
      "outputs": []
    },
    {
      "cell_type": "code",
      "metadata": {
        "id": "tfFAEHchHP6F",
        "colab_type": "code",
        "colab": {}
      },
      "source": [
        "simple_lstm_model = tf.keras.models.Sequential([\n",
        "    tf.keras.layers.LSTM(50, input_shape=X_train.shape[-2:], return_sequences=True),\n",
        "    tf.keras.layers.Dropout(0.2),\n",
        "    tf.keras.layers.LSTM(100, input_shape = X_train.shape[-2:], return_sequences=False),\n",
        "    tf.keras.layers.Dropout(0.2),\n",
        "    tf.keras.layers.Dense(1)\n",
        "])\n",
        "\n",
        "simple_lstm_model.compile(optimizer = 'Nadam', loss ='mae')"
      ],
      "execution_count": 0,
      "outputs": []
    },
    {
      "cell_type": "code",
      "metadata": {
        "id": "NIlTc2raHYoi",
        "colab_type": "code",
        "colab": {}
      },
      "source": [
        "simple_lstm_model.reset_states()"
      ],
      "execution_count": 0,
      "outputs": []
    },
    {
      "cell_type": "code",
      "metadata": {
        "id": "iERsRhQqKCGj",
        "colab_type": "code",
        "outputId": "09a8292b-fa4e-421b-dfd4-9ce3e6718783",
        "colab": {
          "base_uri": "https://localhost:8080/",
          "height": 35
        }
      },
      "source": [
        "for x, y in val_tensor.take(1):\n",
        "    print(simple_lstm_model.predict(x).shape)"
      ],
      "execution_count": 0,
      "outputs": [
        {
          "output_type": "stream",
          "text": [
            "(512, 1)\n"
          ],
          "name": "stdout"
        }
      ]
    },
    {
      "cell_type": "code",
      "metadata": {
        "id": "QccwvxzXKLlF",
        "colab_type": "code",
        "outputId": "2fd62c74-3e96-4f10-e2eb-f84659148090",
        "colab": {
          "base_uri": "https://localhost:8080/",
          "height": 156
        }
      },
      "source": [
        "EVALUATION_INTERVAL = 8000\n",
        "EPOCHS = 3 \n",
        "\n",
        "simple_lstm_model.fit(train_tensor,  epochs = EPOCHS, steps_per_epoch=EVALUATION_INTERVAL, validation_data=val_tensor, validation_steps = 50)"
      ],
      "execution_count": 0,
      "outputs": [
        {
          "output_type": "stream",
          "text": [
            "Train for 8000 steps, validate for 50 steps\n",
            "Epoch 1/3\n",
            "8000/8000 [==============================] - 102s 13ms/step - loss: 0.0075 - val_loss: 0.0041\n",
            "Epoch 2/3\n",
            "8000/8000 [==============================] - 100s 12ms/step - loss: 0.0074 - val_loss: 0.0041\n",
            "Epoch 3/3\n",
            "8000/8000 [==============================] - 99s 12ms/step - loss: 0.0074 - val_loss: 0.0042\n"
          ],
          "name": "stdout"
        },
        {
          "output_type": "execute_result",
          "data": {
            "text/plain": [
              "<tensorflow.python.keras.callbacks.History at 0x7f1f0bbe6cf8>"
            ]
          },
          "metadata": {
            "tags": []
          },
          "execution_count": 58
        }
      ]
    },
    {
      "cell_type": "code",
      "metadata": {
        "id": "R0eDQK9iLHJb",
        "colab_type": "code",
        "outputId": "c9cf2350-bcc2-470b-8ada-f1077ad459ac",
        "colab": {
          "base_uri": "https://localhost:8080/",
          "height": 329
        }
      },
      "source": [
        "simple_lstm_model.summary()"
      ],
      "execution_count": 0,
      "outputs": [
        {
          "output_type": "stream",
          "text": [
            "Model: \"sequential_1\"\n",
            "_________________________________________________________________\n",
            "Layer (type)                 Output Shape              Param #   \n",
            "=================================================================\n",
            "lstm_2 (LSTM)                (None, 40, 50)            10400     \n",
            "_________________________________________________________________\n",
            "dropout_2 (Dropout)          (None, 40, 50)            0         \n",
            "_________________________________________________________________\n",
            "lstm_3 (LSTM)                (None, 100)               60400     \n",
            "_________________________________________________________________\n",
            "dropout_3 (Dropout)          (None, 100)               0         \n",
            "_________________________________________________________________\n",
            "dense_1 (Dense)              (None, 1)                 101       \n",
            "=================================================================\n",
            "Total params: 70,901\n",
            "Trainable params: 70,901\n",
            "Non-trainable params: 0\n",
            "_________________________________________________________________\n"
          ],
          "name": "stdout"
        }
      ]
    },
    {
      "cell_type": "code",
      "metadata": {
        "id": "O97nKE40NwNP",
        "colab_type": "code",
        "colab": {}
      },
      "source": [
        "val_dataframe = dataframe[TRAIN_SPLIT:]\n",
        "val_dataframe_pct = val_dataframe.pct_change()[1:]\n",
        "val_dataframe = val_dataframe[1:]\n",
        "val_dataframe_CHECK = val_dataframe"
      ],
      "execution_count": 0,
      "outputs": []
    },
    {
      "cell_type": "code",
      "metadata": {
        "id": "qHK7s6AKOgre",
        "colab_type": "code",
        "outputId": "27c043bf-63b8-46f9-9d87-3569eebd4427",
        "colab": {
          "base_uri": "https://localhost:8080/",
          "height": 233
        }
      },
      "source": [
        "val_dataframe_CHECK.head()"
      ],
      "execution_count": 0,
      "outputs": [
        {
          "output_type": "execute_result",
          "data": {
            "text/html": [
              "<div>\n",
              "<style scoped>\n",
              "    .dataframe tbody tr th:only-of-type {\n",
              "        vertical-align: middle;\n",
              "    }\n",
              "\n",
              "    .dataframe tbody tr th {\n",
              "        vertical-align: top;\n",
              "    }\n",
              "\n",
              "    .dataframe thead th {\n",
              "        text-align: right;\n",
              "    }\n",
              "</style>\n",
              "<table border=\"1\" class=\"dataframe\">\n",
              "  <thead>\n",
              "    <tr style=\"text-align: right;\">\n",
              "      <th></th>\n",
              "      <th>open</th>\n",
              "    </tr>\n",
              "    <tr>\n",
              "      <th>datetime</th>\n",
              "      <th></th>\n",
              "    </tr>\n",
              "  </thead>\n",
              "  <tbody>\n",
              "    <tr>\n",
              "      <th>2019-08-22 20:00:00</th>\n",
              "      <td>175.00</td>\n",
              "    </tr>\n",
              "    <tr>\n",
              "      <th>2019-08-22 21:00:00</th>\n",
              "      <td>173.44</td>\n",
              "    </tr>\n",
              "    <tr>\n",
              "      <th>2019-08-22 22:00:00</th>\n",
              "      <td>173.76</td>\n",
              "    </tr>\n",
              "    <tr>\n",
              "      <th>2019-08-22 23:00:00</th>\n",
              "      <td>173.64</td>\n",
              "    </tr>\n",
              "    <tr>\n",
              "      <th>2019-08-23 00:00:00</th>\n",
              "      <td>175.16</td>\n",
              "    </tr>\n",
              "  </tbody>\n",
              "</table>\n",
              "</div>"
            ],
            "text/plain": [
              "                       open\n",
              "datetime                   \n",
              "2019-08-22 20:00:00  175.00\n",
              "2019-08-22 21:00:00  173.44\n",
              "2019-08-22 22:00:00  173.76\n",
              "2019-08-22 23:00:00  173.64\n",
              "2019-08-23 00:00:00  175.16"
            ]
          },
          "metadata": {
            "tags": []
          },
          "execution_count": 61
        }
      ]
    },
    {
      "cell_type": "code",
      "metadata": {
        "id": "7dXG7hutOo8i",
        "colab_type": "code",
        "outputId": "a1c79f94-7101-4716-8432-f7fbeaf5be3e",
        "colab": {
          "base_uri": "https://localhost:8080/",
          "height": 35
        }
      },
      "source": [
        "val_dataframe_CHECK.shape"
      ],
      "execution_count": 0,
      "outputs": [
        {
          "output_type": "execute_result",
          "data": {
            "text/plain": [
              "(2170, 1)"
            ]
          },
          "metadata": {
            "tags": []
          },
          "execution_count": 62
        }
      ]
    },
    {
      "cell_type": "code",
      "metadata": {
        "id": "cNCZm7-EPDLH",
        "colab_type": "code",
        "outputId": "e9d766b2-a5d7-43c3-bf39-c5c30fdfc634",
        "colab": {
          "base_uri": "https://localhost:8080/",
          "height": 35
        }
      },
      "source": [
        "simple_lstm_model.predict(val_dataframe_pct[\"open\"].values[0:0+40].reshape(1,40,1))[0][0]\n"
      ],
      "execution_count": 0,
      "outputs": [
        {
          "output_type": "execute_result",
          "data": {
            "text/plain": [
              "0.0009121115"
            ]
          },
          "metadata": {
            "tags": []
          },
          "execution_count": 63
        }
      ]
    },
    {
      "cell_type": "code",
      "metadata": {
        "id": "yUIqrU9xEfIF",
        "colab_type": "code",
        "outputId": "79a979c9-2d1b-4038-d5aa-ba2148e1392f",
        "colab": {
          "base_uri": "https://localhost:8080/",
          "height": 35
        }
      },
      "source": [
        "np.count_nonzero(val_dataframe_CHECK.index != val_dataframe_pct.index)\n"
      ],
      "execution_count": 0,
      "outputs": [
        {
          "output_type": "execute_result",
          "data": {
            "text/plain": [
              "0"
            ]
          },
          "metadata": {
            "tags": []
          },
          "execution_count": 65
        }
      ]
    },
    {
      "cell_type": "code",
      "metadata": {
        "id": "lD-a3ZPirqhv",
        "colab_type": "code",
        "outputId": "442fff0e-c5a4-412a-b095-983e8a685b43",
        "colab": {
          "base_uri": "https://localhost:8080/",
          "height": 35
        }
      },
      "source": [
        "val_dataframe_CHECK.index[0]"
      ],
      "execution_count": 0,
      "outputs": [
        {
          "output_type": "execute_result",
          "data": {
            "text/plain": [
              "Timestamp('2019-08-22 20:00:00')"
            ]
          },
          "metadata": {
            "tags": []
          },
          "execution_count": 68
        }
      ]
    },
    {
      "cell_type": "code",
      "metadata": {
        "id": "zXmEwYhPr_0b",
        "colab_type": "code",
        "colab": {}
      },
      "source": [
        "total_return = []\n",
        "prediction = []\n",
        "account_size = 10000\n",
        "\n",
        "for i in range(val_dataframe_CHECK.shape[0] - 41):\n",
        "  risk = 0.01* account_size\n",
        "\n",
        "  if i == 0:\n",
        "    print(val_dataframe_CHECK.index[0])\n",
        "  if i == val_dataframe_CHECK.shape[0] - 41:\n",
        "    print(val_dataframe_CHECK.index[val_dataframe_CHECK.shape[0] - 41])\n",
        "\n",
        "  if np.abs(simple_lstm_model(val_dataframe_pct['open'].values[i:i+40].reshape(1,40,1))[0][0]) > 0.001:\n",
        "    model_prediction = (simple_lstm_model.predict(val_dataframe_pct['open'].values[i:i+40].reshape(1,40,1))[0][0] +1)*val_dataframe_CHECK.values[i+40]\n"
      ],
      "execution_count": 0,
      "outputs": []
    },
    {
      "cell_type": "code",
      "metadata": {
        "id": "Pt9oG_LwsKUy",
        "colab_type": "code",
        "colab": {}
      },
      "source": [
        ""
      ],
      "execution_count": 0,
      "outputs": []
    }
  ]
}
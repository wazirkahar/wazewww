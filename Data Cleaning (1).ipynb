{
 "cells": [
  {
   "cell_type": "code",
   "execution_count": 127,
   "metadata": {},
   "outputs": [],
   "source": [
    "import pandas as pd\n",
    "import numpy as np\n",
    "import matplotlib.pyplot as plt"
   ]
  },
  {
   "cell_type": "code",
   "execution_count": 133,
   "metadata": {},
   "outputs": [],
   "source": [
    "data = pd.read_excel('C:/Users/Wazir/Downloads/Chart_View.xls', index_col=0, parse_date = True, sheet_name =1)"
   ]
  },
  {
   "cell_type": "code",
   "execution_count": 134,
   "metadata": {},
   "outputs": [],
   "source": [
    "data = data.dropna()\n",
    "data.sort_index(inplace = True)\n",
    "data = data.reindex(sorted(data.columns), axis=1)\n"
   ]
  },
  {
   "cell_type": "code",
   "execution_count": 135,
   "metadata": {},
   "outputs": [
    {
     "data": {
      "text/plain": [
       "(1289, 20)"
      ]
     },
     "execution_count": 135,
     "metadata": {},
     "output_type": "execute_result"
    }
   ],
   "source": [
    "data.shape"
   ]
  },
  {
   "cell_type": "code",
   "execution_count": 136,
   "metadata": {},
   "outputs": [],
   "source": [
    "index = []\n",
    "for i in range(0, 20, 2):\n",
    "    index.append((i, i+1))"
   ]
  },
  {
   "cell_type": "code",
   "execution_count": 137,
   "metadata": {},
   "outputs": [
    {
     "data": {
      "text/html": [
       "<div>\n",
       "<style scoped>\n",
       "    .dataframe tbody tr th:only-of-type {\n",
       "        vertical-align: middle;\n",
       "    }\n",
       "\n",
       "    .dataframe tbody tr th {\n",
       "        vertical-align: top;\n",
       "    }\n",
       "\n",
       "    .dataframe thead th {\n",
       "        text-align: right;\n",
       "    }\n",
       "</style>\n",
       "<table border=\"1\" class=\"dataframe\">\n",
       "  <thead>\n",
       "    <tr style=\"text-align: right;\">\n",
       "      <th>Date</th>\n",
       "      <th>2021-02-09 00:00:00</th>\n",
       "    </tr>\n",
       "  </thead>\n",
       "  <tbody>\n",
       "    <tr>\n",
       "      <th>NOK</th>\n",
       "      <td>15.292280</td>\n",
       "    </tr>\n",
       "    <tr>\n",
       "      <th>SEK</th>\n",
       "      <td>10.121437</td>\n",
       "    </tr>\n",
       "    <tr>\n",
       "      <th>CHF</th>\n",
       "      <td>6.291043</td>\n",
       "    </tr>\n",
       "    <tr>\n",
       "      <th>USD</th>\n",
       "      <td>6.063982</td>\n",
       "    </tr>\n",
       "    <tr>\n",
       "      <th>CAD</th>\n",
       "      <td>5.280990</td>\n",
       "    </tr>\n",
       "    <tr>\n",
       "      <th>AUD</th>\n",
       "      <td>4.836279</td>\n",
       "    </tr>\n",
       "    <tr>\n",
       "      <th>JPY</th>\n",
       "      <td>-1.914447</td>\n",
       "    </tr>\n",
       "    <tr>\n",
       "      <th>EUR</th>\n",
       "      <td>-4.189691</td>\n",
       "    </tr>\n",
       "    <tr>\n",
       "      <th>NZD</th>\n",
       "      <td>-9.992741</td>\n",
       "    </tr>\n",
       "    <tr>\n",
       "      <th>GBP</th>\n",
       "      <td>-10.420561</td>\n",
       "    </tr>\n",
       "  </tbody>\n",
       "</table>\n",
       "</div>"
      ],
      "text/plain": [
       "Date  2021-02-09\n",
       "NOK    15.292280\n",
       "SEK    10.121437\n",
       "CHF     6.291043\n",
       "USD     6.063982\n",
       "CAD     5.280990\n",
       "AUD     4.836279\n",
       "JPY    -1.914447\n",
       "EUR    -4.189691\n",
       "NZD    -9.992741\n",
       "GBP   -10.420561"
      ]
     },
     "execution_count": 137,
     "metadata": {},
     "output_type": "execute_result"
    }
   ],
   "source": [
    "df = pd.DataFrame()\n",
    "for column in data.columns:\n",
    "    data[column + ' Mean'] = data[column].rolling(window = 260).mean()\n",
    "    data[column + ' Std'] = data[column].rolling(window = 260).std()\n",
    "    df[column + ' Norm'] = (data[column] - data[column + ' Mean'])/data[column + ' Std']\n",
    "\n",
    "for idx in index:\n",
    "    df[df.columns[idx[0]] +' Net'] = df[df.columns[idx[0]]] - df[df.columns[idx[1]]]\n",
    "    \n",
    "data.sort_index(inplace = True)\n",
    "\n",
    "df = df.dropna()\n",
    "df = df.iloc[:, -10:]\n",
    "\n",
    "for column in df.columns:\n",
    "    df[column + ' Sum'] = df[column].rolling(window=20).sum()\n",
    "    \n",
    "df = df.iloc[:, -10:]\n",
    "df.dropna(inplace = True)\n",
    "\n",
    "rank = df.tail(1)\n",
    "rank.columns = ['AUD', 'CAD', 'CHF', 'EUR', 'GBP', 'JPY', 'NOK', 'NZD', 'SEK', 'USD']\n",
    "rank.T.sort_values(by= rank.T.columns[0], ascending=False)"
   ]
  },
  {
   "cell_type": "code",
   "execution_count": 143,
   "metadata": {},
   "outputs": [],
   "source": [
    "data = pd.read_excel('C:/Users/Wazir/Downloads/Chart_View (2).xls', index_col=0, parse_date = True, sheet_name =1)"
   ]
  },
  {
   "cell_type": "code",
   "execution_count": 144,
   "metadata": {},
   "outputs": [
    {
     "data": {
      "text/html": [
       "<div>\n",
       "<style scoped>\n",
       "    .dataframe tbody tr th:only-of-type {\n",
       "        vertical-align: middle;\n",
       "    }\n",
       "\n",
       "    .dataframe tbody tr th {\n",
       "        vertical-align: top;\n",
       "    }\n",
       "\n",
       "    .dataframe thead th {\n",
       "        text-align: right;\n",
       "    }\n",
       "</style>\n",
       "<table border=\"1\" class=\"dataframe\">\n",
       "  <thead>\n",
       "    <tr style=\"text-align: right;\">\n",
       "      <th></th>\n",
       "      <th>Economic Data Change Index CEDI in EUR</th>\n",
       "      <th>Economic Data Change Index CEDI in GBP</th>\n",
       "      <th>Economic Data Change Index CEDI in AUD</th>\n",
       "      <th>Economic Data Change Index CEDI in USD</th>\n",
       "      <th>Economic Data Change Index CEDI in NOK</th>\n",
       "      <th>Economic Data Change Index CEDI in SEK</th>\n",
       "      <th>Economic Data Change Index CEDI in CHF</th>\n",
       "      <th>Economic Data Change Index CEDI in GBP.1</th>\n",
       "      <th>Economic Data Change Index CEDI in CAD</th>\n",
       "      <th>Economic Data Change Index CEDI in JPY</th>\n",
       "    </tr>\n",
       "    <tr>\n",
       "      <th>Date</th>\n",
       "      <th></th>\n",
       "      <th></th>\n",
       "      <th></th>\n",
       "      <th></th>\n",
       "      <th></th>\n",
       "      <th></th>\n",
       "      <th></th>\n",
       "      <th></th>\n",
       "      <th></th>\n",
       "      <th></th>\n",
       "    </tr>\n",
       "  </thead>\n",
       "  <tbody>\n",
       "    <tr>\n",
       "      <th>2021-02-10 00:00:00</th>\n",
       "      <td>947.8</td>\n",
       "      <td>1326.7</td>\n",
       "      <td>345.1</td>\n",
       "      <td>1318.4</td>\n",
       "      <td>59.2</td>\n",
       "      <td>598.4</td>\n",
       "      <td>198.9</td>\n",
       "      <td>1326.7</td>\n",
       "      <td>223.7</td>\n",
       "      <td>717.2</td>\n",
       "    </tr>\n",
       "    <tr>\n",
       "      <th>2021-02-09 00:00:00</th>\n",
       "      <td>961.3</td>\n",
       "      <td>1336.3</td>\n",
       "      <td>350.8</td>\n",
       "      <td>1341.6</td>\n",
       "      <td>92.1</td>\n",
       "      <td>606.5</td>\n",
       "      <td>199.9</td>\n",
       "      <td>1336.3</td>\n",
       "      <td>227.9</td>\n",
       "      <td>742.8</td>\n",
       "    </tr>\n",
       "    <tr>\n",
       "      <th>2021-02-08 00:00:00</th>\n",
       "      <td>974.0</td>\n",
       "      <td>1592.0</td>\n",
       "      <td>356.1</td>\n",
       "      <td>1360.0</td>\n",
       "      <td>109.3</td>\n",
       "      <td>613.5</td>\n",
       "      <td>201.0</td>\n",
       "      <td>1592.0</td>\n",
       "      <td>231.8</td>\n",
       "      <td>767.5</td>\n",
       "    </tr>\n",
       "    <tr>\n",
       "      <th>2021-02-05 00:00:00</th>\n",
       "      <td>1014.8</td>\n",
       "      <td>1942.0</td>\n",
       "      <td>370.3</td>\n",
       "      <td>1404.6</td>\n",
       "      <td>145.1</td>\n",
       "      <td>633.6</td>\n",
       "      <td>204.1</td>\n",
       "      <td>1942.0</td>\n",
       "      <td>241.9</td>\n",
       "      <td>786.5</td>\n",
       "    </tr>\n",
       "    <tr>\n",
       "      <th>2021-02-04 00:00:00</th>\n",
       "      <td>1031.7</td>\n",
       "      <td>2014.5</td>\n",
       "      <td>453.5</td>\n",
       "      <td>1413.7</td>\n",
       "      <td>155.4</td>\n",
       "      <td>641.3</td>\n",
       "      <td>205.1</td>\n",
       "      <td>2014.5</td>\n",
       "      <td>259.4</td>\n",
       "      <td>793.9</td>\n",
       "    </tr>\n",
       "  </tbody>\n",
       "</table>\n",
       "</div>"
      ],
      "text/plain": [
       "                     Economic Data Change Index CEDI in EUR  \\\n",
       "Date                                                          \n",
       "2021-02-10 00:00:00                                   947.8   \n",
       "2021-02-09 00:00:00                                   961.3   \n",
       "2021-02-08 00:00:00                                   974.0   \n",
       "2021-02-05 00:00:00                                  1014.8   \n",
       "2021-02-04 00:00:00                                  1031.7   \n",
       "\n",
       "                     Economic Data Change Index CEDI in GBP  \\\n",
       "Date                                                          \n",
       "2021-02-10 00:00:00                                  1326.7   \n",
       "2021-02-09 00:00:00                                  1336.3   \n",
       "2021-02-08 00:00:00                                  1592.0   \n",
       "2021-02-05 00:00:00                                  1942.0   \n",
       "2021-02-04 00:00:00                                  2014.5   \n",
       "\n",
       "                     Economic Data Change Index CEDI in AUD  \\\n",
       "Date                                                          \n",
       "2021-02-10 00:00:00                                   345.1   \n",
       "2021-02-09 00:00:00                                   350.8   \n",
       "2021-02-08 00:00:00                                   356.1   \n",
       "2021-02-05 00:00:00                                   370.3   \n",
       "2021-02-04 00:00:00                                   453.5   \n",
       "\n",
       "                     Economic Data Change Index CEDI in USD  \\\n",
       "Date                                                          \n",
       "2021-02-10 00:00:00                                  1318.4   \n",
       "2021-02-09 00:00:00                                  1341.6   \n",
       "2021-02-08 00:00:00                                  1360.0   \n",
       "2021-02-05 00:00:00                                  1404.6   \n",
       "2021-02-04 00:00:00                                  1413.7   \n",
       "\n",
       "                     Economic Data Change Index CEDI in NOK  \\\n",
       "Date                                                          \n",
       "2021-02-10 00:00:00                                    59.2   \n",
       "2021-02-09 00:00:00                                    92.1   \n",
       "2021-02-08 00:00:00                                   109.3   \n",
       "2021-02-05 00:00:00                                   145.1   \n",
       "2021-02-04 00:00:00                                   155.4   \n",
       "\n",
       "                     Economic Data Change Index CEDI in SEK  \\\n",
       "Date                                                          \n",
       "2021-02-10 00:00:00                                   598.4   \n",
       "2021-02-09 00:00:00                                   606.5   \n",
       "2021-02-08 00:00:00                                   613.5   \n",
       "2021-02-05 00:00:00                                   633.6   \n",
       "2021-02-04 00:00:00                                   641.3   \n",
       "\n",
       "                     Economic Data Change Index CEDI in CHF  \\\n",
       "Date                                                          \n",
       "2021-02-10 00:00:00                                   198.9   \n",
       "2021-02-09 00:00:00                                   199.9   \n",
       "2021-02-08 00:00:00                                   201.0   \n",
       "2021-02-05 00:00:00                                   204.1   \n",
       "2021-02-04 00:00:00                                   205.1   \n",
       "\n",
       "                     Economic Data Change Index CEDI in GBP.1  \\\n",
       "Date                                                            \n",
       "2021-02-10 00:00:00                                    1326.7   \n",
       "2021-02-09 00:00:00                                    1336.3   \n",
       "2021-02-08 00:00:00                                    1592.0   \n",
       "2021-02-05 00:00:00                                    1942.0   \n",
       "2021-02-04 00:00:00                                    2014.5   \n",
       "\n",
       "                     Economic Data Change Index CEDI in CAD  \\\n",
       "Date                                                          \n",
       "2021-02-10 00:00:00                                   223.7   \n",
       "2021-02-09 00:00:00                                   227.9   \n",
       "2021-02-08 00:00:00                                   231.8   \n",
       "2021-02-05 00:00:00                                   241.9   \n",
       "2021-02-04 00:00:00                                   259.4   \n",
       "\n",
       "                     Economic Data Change Index CEDI in JPY  \n",
       "Date                                                         \n",
       "2021-02-10 00:00:00                                   717.2  \n",
       "2021-02-09 00:00:00                                   742.8  \n",
       "2021-02-08 00:00:00                                   767.5  \n",
       "2021-02-05 00:00:00                                   786.5  \n",
       "2021-02-04 00:00:00                                   793.9  "
      ]
     },
     "execution_count": 144,
     "metadata": {},
     "output_type": "execute_result"
    }
   ],
   "source": [
    "data.head()"
   ]
  },
  {
   "cell_type": "code",
   "execution_count": 145,
   "metadata": {},
   "outputs": [],
   "source": [
    "data = data.dropna()\n",
    "data.sort_index(inplace = True)\n",
    "data = data.reindex(sorted(data.columns), axis=1)"
   ]
  },
  {
   "cell_type": "code",
   "execution_count": 148,
   "metadata": {},
   "outputs": [],
   "source": [
    "data.drop('Economic Data Change Index CEDI in GBP.1', axis=1, inplace=True)"
   ]
  },
  {
   "cell_type": "code",
   "execution_count": 153,
   "metadata": {},
   "outputs": [],
   "source": [
    "usd = data.iloc[:, -1:]\n",
    "others = data.iloc[:, :-1]"
   ]
  },
  {
   "cell_type": "code",
   "execution_count": 155,
   "metadata": {},
   "outputs": [
    {
     "data": {
      "text/plain": [
       "Index(['Economic Data Change Index CEDI in AUD',\n",
       "       'Economic Data Change Index CEDI in CAD',\n",
       "       'Economic Data Change Index CEDI in CHF',\n",
       "       'Economic Data Change Index CEDI in EUR',\n",
       "       'Economic Data Change Index CEDI in GBP',\n",
       "       'Economic Data Change Index CEDI in JPY',\n",
       "       'Economic Data Change Index CEDI in NOK',\n",
       "       'Economic Data Change Index CEDI in SEK'],\n",
       "      dtype='object')"
      ]
     },
     "execution_count": 155,
     "metadata": {},
     "output_type": "execute_result"
    }
   ],
   "source": [
    "weights = [0.034, 0.017, 0.017, 0.508, 0.102, 0.22, 0.017, 0.017]\n",
    "others.columns"
   ]
  },
  {
   "cell_type": "code",
   "execution_count": 156,
   "metadata": {},
   "outputs": [],
   "source": [
    "weighteddf = pd.DataFrame()\n",
    "for i in range(len(others.columns)):\n",
    "    weighteddf[others.columns[i]] = others[others.columns[i]] * weights[i]\n",
    "    "
   ]
  },
  {
   "cell_type": "code",
   "execution_count": 171,
   "metadata": {},
   "outputs": [],
   "source": [
    "basket = pd.DataFrame(weighteddf.sum(axis=1))\n",
    "basket['USD'] = usd\n",
    "basket.columns = ['Basket', 'USD']\n",
    "basket['Long/Short'] = np.where(basket['USD'] > basket['Basket'], 1, -1)"
   ]
  },
  {
   "cell_type": "code",
   "execution_count": 173,
   "metadata": {},
   "outputs": [
    {
     "name": "stderr",
     "output_type": "stream",
     "text": [
      "C:\\Users\\Wazir\\Anaconda3\\envs\\$PYTHON3.6\\lib\\site-packages\\pandas\\plotting\\_compat.py:57: MatplotlibDeprecationWarning: \n",
      "The compare_versions function was deprecated in Matplotlib 3.2 and will be removed two minor releases later.\n",
      "  return matplotlib.compare_versions('2.0.0', matplotlib.__version__)\n"
     ]
    },
    {
     "data": {
      "text/plain": [
       "<matplotlib.axes._subplots.AxesSubplot at 0x1643d4e7eb8>"
      ]
     },
     "execution_count": 173,
     "metadata": {},
     "output_type": "execute_result"
    },
    {
     "data": {
      "image/png": "[encoded data removed]",
      "text/plain": [
       "<Figure size 432x288 with 1 Axes>"
      ]
     },
     "metadata": {
      "needs_background": "light"
     },
     "output_type": "display_data"
    }
   ],
   "source": [
    "basket['Long/Short'].plot()"
   ]
  },
  {
   "cell_type": "code",
   "execution_count": 182,
   "metadata": {},
   "outputs": [
    {
     "data": {
      "text/plain": [
       "[<matplotlib.lines.Line2D at 0x16442530e48>]"
      ]
     },
     "execution_count": 182,
     "metadata": {},
     "output_type": "execute_result"
    },
    {
     "data": {
      "image/png": "[encoded data removed]",
      "text/plain": [
       "<Figure size 1080x864 with 2 Axes>"
      ]
     },
     "metadata": {
      "needs_background": "light"
     },
     "output_type": "display_data"
    }
   ],
   "source": [
    "fig, ax = plt.subplots(1, 1, figsize=(15,12))\n",
    "\n",
    "ax.plot(basket['Basket'], label='Basket', color='orange')\n",
    "ax.plot(basket['USD'], label =' USD', color = 'royalblue')\n",
    "ax.legend(loc='upper right')\n",
    "axt = ax.twinx()\n",
    "axt.plot(basket['Long/Short'], color = 'darkturquoise', label = 'Long/Short')"
   ]
  },
  {
   "cell_type": "code",
   "execution_count": null,
   "metadata": {},
   "outputs": [],
   "source": []
  }
 ],
 "metadata": {
  "kernelspec": {
   "display_name": "Python 3",
   "language": "python",
   "name": "python3"
  },
  "language_info": {
   "codemirror_mode": {
    "name": "ipython",
    "version": 3
   },
   "file_extension": ".py",
   "mimetype": "text/x-python",
   "name": "python",
   "nbconvert_exporter": "python",
   "pygments_lexer": "ipython3",
   "version": "3.6.10"
  }
 },
 "nbformat": 4,
 "nbformat_minor": 4
}

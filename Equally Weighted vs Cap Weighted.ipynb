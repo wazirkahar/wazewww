{
 "cells": [
  {
   "cell_type": "code",
   "execution_count": 104,
   "metadata": {},
   "outputs": [
    {
     "name": "stdout",
     "output_type": "stream",
     "text": [
      "The autoreload extension is already loaded. To reload it, use:\n",
      "  %reload_ext autoreload\n"
     ]
    }
   ],
   "source": [
    "import pandas as pd\n",
    "import numpy as np\n",
    "import matplotlib.pyplot as plt\n",
    "%matplotlib inline\n",
    "import sys\n",
    "sys.path.append('C:/Users/Wazir')\n",
    "import edhec_risk_kit as erk\n",
    "%load_ext autoreload\n",
    "%autoreload 2\n"
   ]
  },
  {
   "cell_type": "code",
   "execution_count": 4,
   "metadata": {},
   "outputs": [],
   "source": [
    "brka_d =pd.read_csv('C:/Users/Wazir/Downloads/course 2 data/data/brka_d_ret.csv', parse_dates=True, index_col=0)"
   ]
  },
  {
   "cell_type": "code",
   "execution_count": 5,
   "metadata": {},
   "outputs": [
    {
     "data": {
      "text/html": [
       "<div>\n",
       "<style scoped>\n",
       "    .dataframe tbody tr th:only-of-type {\n",
       "        vertical-align: middle;\n",
       "    }\n",
       "\n",
       "    .dataframe tbody tr th {\n",
       "        vertical-align: top;\n",
       "    }\n",
       "\n",
       "    .dataframe thead th {\n",
       "        text-align: right;\n",
       "    }\n",
       "</style>\n",
       "<table border=\"1\" class=\"dataframe\">\n",
       "  <thead>\n",
       "    <tr style=\"text-align: right;\">\n",
       "      <th></th>\n",
       "      <th>BRKA</th>\n",
       "    </tr>\n",
       "    <tr>\n",
       "      <th>DATE</th>\n",
       "      <th></th>\n",
       "    </tr>\n",
       "  </thead>\n",
       "  <tbody>\n",
       "    <tr>\n",
       "      <th>1990-01-02</th>\n",
       "      <td>-0.005764</td>\n",
       "    </tr>\n",
       "    <tr>\n",
       "      <th>1990-01-03</th>\n",
       "      <td>0.000000</td>\n",
       "    </tr>\n",
       "    <tr>\n",
       "      <th>1990-01-04</th>\n",
       "      <td>0.005797</td>\n",
       "    </tr>\n",
       "    <tr>\n",
       "      <th>1990-01-05</th>\n",
       "      <td>-0.005764</td>\n",
       "    </tr>\n",
       "    <tr>\n",
       "      <th>1990-01-08</th>\n",
       "      <td>0.000000</td>\n",
       "    </tr>\n",
       "  </tbody>\n",
       "</table>\n",
       "</div>"
      ],
      "text/plain": [
       "                BRKA\n",
       "DATE                \n",
       "1990-01-02 -0.005764\n",
       "1990-01-03  0.000000\n",
       "1990-01-04  0.005797\n",
       "1990-01-05 -0.005764\n",
       "1990-01-08  0.000000"
      ]
     },
     "execution_count": 5,
     "metadata": {},
     "output_type": "execute_result"
    }
   ],
   "source": [
    "brka_d.head()"
   ]
  },
  {
   "cell_type": "code",
   "execution_count": 11,
   "metadata": {},
   "outputs": [
    {
     "data": {
      "text/html": [
       "<div>\n",
       "<style scoped>\n",
       "    .dataframe tbody tr th:only-of-type {\n",
       "        vertical-align: middle;\n",
       "    }\n",
       "\n",
       "    .dataframe tbody tr th {\n",
       "        vertical-align: top;\n",
       "    }\n",
       "\n",
       "    .dataframe thead th {\n",
       "        text-align: right;\n",
       "    }\n",
       "</style>\n",
       "<table border=\"1\" class=\"dataframe\">\n",
       "  <thead>\n",
       "    <tr style=\"text-align: right;\">\n",
       "      <th></th>\n",
       "      <th>BRKA</th>\n",
       "    </tr>\n",
       "    <tr>\n",
       "      <th>DATE</th>\n",
       "      <th></th>\n",
       "    </tr>\n",
       "  </thead>\n",
       "  <tbody>\n",
       "    <tr>\n",
       "      <th>1990-01</th>\n",
       "      <td>-0.140634</td>\n",
       "    </tr>\n",
       "    <tr>\n",
       "      <th>1990-02</th>\n",
       "      <td>-0.030852</td>\n",
       "    </tr>\n",
       "    <tr>\n",
       "      <th>1990-03</th>\n",
       "      <td>-0.069204</td>\n",
       "    </tr>\n",
       "    <tr>\n",
       "      <th>1990-04</th>\n",
       "      <td>-0.003717</td>\n",
       "    </tr>\n",
       "    <tr>\n",
       "      <th>1990-05</th>\n",
       "      <td>0.067164</td>\n",
       "    </tr>\n",
       "  </tbody>\n",
       "</table>\n",
       "</div>"
      ],
      "text/plain": [
       "             BRKA\n",
       "DATE             \n",
       "1990-01 -0.140634\n",
       "1990-02 -0.030852\n",
       "1990-03 -0.069204\n",
       "1990-04 -0.003717\n",
       "1990-05  0.067164"
      ]
     },
     "execution_count": 11,
     "metadata": {},
     "output_type": "execute_result"
    }
   ],
   "source": [
    "#Converting the daily returns to monthly returns\n",
    "\n",
    "brka_m =brka_d.resample('M').apply(erk.compound).to_period('M')\n",
    "brka_m.head()"
   ]
  },
  {
   "cell_type": "code",
   "execution_count": 19,
   "metadata": {},
   "outputs": [],
   "source": [
    "def get_fff_returns():\n",
    "    \n",
    "    df = pd.read_csv('C:/Users/Wazir/Downloads/course 2 data/data/F-F_Research_Data_Factors_m.csv', parse_dates=True,\n",
    "                 index_col=0, na_values=-99.99)/100\n",
    "    df.index= pd.to_datetime(df.index, format='%Y%m').to_period('M')\n",
    "    \n",
    "    return df\n",
    "    "
   ]
  },
  {
   "cell_type": "code",
   "execution_count": 20,
   "metadata": {},
   "outputs": [],
   "source": [
    "fff = get_fff_returns()"
   ]
  },
  {
   "cell_type": "code",
   "execution_count": 21,
   "metadata": {},
   "outputs": [
    {
     "data": {
      "text/html": [
       "<div>\n",
       "<style scoped>\n",
       "    .dataframe tbody tr th:only-of-type {\n",
       "        vertical-align: middle;\n",
       "    }\n",
       "\n",
       "    .dataframe tbody tr th {\n",
       "        vertical-align: top;\n",
       "    }\n",
       "\n",
       "    .dataframe thead th {\n",
       "        text-align: right;\n",
       "    }\n",
       "</style>\n",
       "<table border=\"1\" class=\"dataframe\">\n",
       "  <thead>\n",
       "    <tr style=\"text-align: right;\">\n",
       "      <th></th>\n",
       "      <th>Mkt-RF</th>\n",
       "      <th>SMB</th>\n",
       "      <th>HML</th>\n",
       "      <th>RF</th>\n",
       "    </tr>\n",
       "  </thead>\n",
       "  <tbody>\n",
       "    <tr>\n",
       "      <th>1926-07</th>\n",
       "      <td>0.0296</td>\n",
       "      <td>-0.0230</td>\n",
       "      <td>-0.0287</td>\n",
       "      <td>0.0022</td>\n",
       "    </tr>\n",
       "    <tr>\n",
       "      <th>1926-08</th>\n",
       "      <td>0.0264</td>\n",
       "      <td>-0.0140</td>\n",
       "      <td>0.0419</td>\n",
       "      <td>0.0025</td>\n",
       "    </tr>\n",
       "    <tr>\n",
       "      <th>1926-09</th>\n",
       "      <td>0.0036</td>\n",
       "      <td>-0.0132</td>\n",
       "      <td>0.0001</td>\n",
       "      <td>0.0023</td>\n",
       "    </tr>\n",
       "    <tr>\n",
       "      <th>1926-10</th>\n",
       "      <td>-0.0324</td>\n",
       "      <td>0.0004</td>\n",
       "      <td>0.0051</td>\n",
       "      <td>0.0032</td>\n",
       "    </tr>\n",
       "    <tr>\n",
       "      <th>1926-11</th>\n",
       "      <td>0.0253</td>\n",
       "      <td>-0.0020</td>\n",
       "      <td>-0.0035</td>\n",
       "      <td>0.0031</td>\n",
       "    </tr>\n",
       "  </tbody>\n",
       "</table>\n",
       "</div>"
      ],
      "text/plain": [
       "         Mkt-RF     SMB     HML      RF\n",
       "1926-07  0.0296 -0.0230 -0.0287  0.0022\n",
       "1926-08  0.0264 -0.0140  0.0419  0.0025\n",
       "1926-09  0.0036 -0.0132  0.0001  0.0023\n",
       "1926-10 -0.0324  0.0004  0.0051  0.0032\n",
       "1926-11  0.0253 -0.0020 -0.0035  0.0031"
      ]
     },
     "execution_count": 21,
     "metadata": {},
     "output_type": "execute_result"
    }
   ],
   "source": [
    "fff.head()"
   ]
  },
  {
   "cell_type": "markdown",
   "metadata": {},
   "source": [
    "# $$ R_{brka,t} - R_{f,t} = \\alpha + \\beta(R_{mkt,t} - R_{f,t}) + \\epsilon_t $$"
   ]
  },
  {
   "cell_type": "code",
   "execution_count": 45,
   "metadata": {},
   "outputs": [],
   "source": [
    "import statsmodels.api as sm\n",
    "brka_excess = brka_m['1990':'2015-05'] -fff.loc['1990':'2015-05', ['RF']].values\n",
    "mkt_excess = fff.loc['1990':'2015-05', ['Mkt-RF']]"
   ]
  },
  {
   "cell_type": "code",
   "execution_count": 50,
   "metadata": {},
   "outputs": [],
   "source": [
    "exp_var = mkt_excess.copy()\n",
    "exp_var['Constant'] = 1\n",
    "lm = sm.OLS(brka_excess, exp_var).fit()"
   ]
  },
  {
   "cell_type": "code",
   "execution_count": 51,
   "metadata": {},
   "outputs": [
    {
     "data": {
      "text/html": [
       "<table class=\"simpletable\">\n",
       "<caption>OLS Regression Results</caption>\n",
       "<tr>\n",
       "  <th>Dep. Variable:</th>          <td>BRKA</td>       <th>  R-squared:         </th> <td>   0.163</td>\n",
       "</tr>\n",
       "<tr>\n",
       "  <th>Model:</th>                   <td>OLS</td>       <th>  Adj. R-squared:    </th> <td>   0.160</td>\n",
       "</tr>\n",
       "<tr>\n",
       "  <th>Method:</th>             <td>Least Squares</td>  <th>  F-statistic:       </th> <td>   59.05</td>\n",
       "</tr>\n",
       "<tr>\n",
       "  <th>Date:</th>             <td>Fri, 03 Jul 2020</td> <th>  Prob (F-statistic):</th> <td>2.15e-13</td>\n",
       "</tr>\n",
       "<tr>\n",
       "  <th>Time:</th>                 <td>16:00:05</td>     <th>  Log-Likelihood:    </th> <td>  454.77</td>\n",
       "</tr>\n",
       "<tr>\n",
       "  <th>No. Observations:</th>      <td>   305</td>      <th>  AIC:               </th> <td>  -905.5</td>\n",
       "</tr>\n",
       "<tr>\n",
       "  <th>Df Residuals:</th>          <td>   303</td>      <th>  BIC:               </th> <td>  -898.1</td>\n",
       "</tr>\n",
       "<tr>\n",
       "  <th>Df Model:</th>              <td>     1</td>      <th>                     </th>     <td> </td>   \n",
       "</tr>\n",
       "<tr>\n",
       "  <th>Covariance Type:</th>      <td>nonrobust</td>    <th>                     </th>     <td> </td>   \n",
       "</tr>\n",
       "</table>\n",
       "<table class=\"simpletable\">\n",
       "<tr>\n",
       "      <td></td>        <th>coef</th>     <th>std err</th>      <th>t</th>      <th>P>|t|</th>  <th>[0.025</th>    <th>0.975]</th>  \n",
       "</tr>\n",
       "<tr>\n",
       "  <th>Mkt-RF</th>   <td>    0.5554</td> <td>    0.072</td> <td>    7.685</td> <td> 0.000</td> <td>    0.413</td> <td>    0.698</td>\n",
       "</tr>\n",
       "<tr>\n",
       "  <th>Constant</th> <td>    0.0063</td> <td>    0.003</td> <td>    2.005</td> <td> 0.046</td> <td>    0.000</td> <td>    0.013</td>\n",
       "</tr>\n",
       "</table>\n",
       "<table class=\"simpletable\">\n",
       "<tr>\n",
       "  <th>Omnibus:</th>       <td>54.924</td> <th>  Durbin-Watson:     </th> <td>   2.070</td>\n",
       "</tr>\n",
       "<tr>\n",
       "  <th>Prob(Omnibus):</th> <td> 0.000</td> <th>  Jarque-Bera (JB):  </th> <td> 141.859</td>\n",
       "</tr>\n",
       "<tr>\n",
       "  <th>Skew:</th>          <td> 0.840</td> <th>  Prob(JB):          </th> <td>1.57e-31</td>\n",
       "</tr>\n",
       "<tr>\n",
       "  <th>Kurtosis:</th>      <td> 5.888</td> <th>  Cond. No.          </th> <td>    23.1</td>\n",
       "</tr>\n",
       "</table><br/><br/>Warnings:<br/>[1] Standard Errors assume that the covariance matrix of the errors is correctly specified."
      ],
      "text/plain": [
       "<class 'statsmodels.iolib.summary.Summary'>\n",
       "\"\"\"\n",
       "                            OLS Regression Results                            \n",
       "==============================================================================\n",
       "Dep. Variable:                   BRKA   R-squared:                       0.163\n",
       "Model:                            OLS   Adj. R-squared:                  0.160\n",
       "Method:                 Least Squares   F-statistic:                     59.05\n",
       "Date:                Fri, 03 Jul 2020   Prob (F-statistic):           2.15e-13\n",
       "Time:                        16:00:05   Log-Likelihood:                 454.77\n",
       "No. Observations:                 305   AIC:                            -905.5\n",
       "Df Residuals:                     303   BIC:                            -898.1\n",
       "Df Model:                           1                                         \n",
       "Covariance Type:            nonrobust                                         \n",
       "==============================================================================\n",
       "                 coef    std err          t      P>|t|      [0.025      0.975]\n",
       "------------------------------------------------------------------------------\n",
       "Mkt-RF         0.5554      0.072      7.685      0.000       0.413       0.698\n",
       "Constant       0.0063      0.003      2.005      0.046       0.000       0.013\n",
       "==============================================================================\n",
       "Omnibus:                       54.924   Durbin-Watson:                   2.070\n",
       "Prob(Omnibus):                  0.000   Jarque-Bera (JB):              141.859\n",
       "Skew:                           0.840   Prob(JB):                     1.57e-31\n",
       "Kurtosis:                       5.888   Cond. No.                         23.1\n",
       "==============================================================================\n",
       "\n",
       "Warnings:\n",
       "[1] Standard Errors assume that the covariance matrix of the errors is correctly specified.\n",
       "\"\"\""
      ]
     },
     "execution_count": 51,
     "metadata": {},
     "output_type": "execute_result"
    }
   ],
   "source": [
    "lm.summary()"
   ]
  },
  {
   "cell_type": "code",
   "execution_count": 61,
   "metadata": {},
   "outputs": [
    {
     "data": {
      "text/plain": [
       "Mkt-RF       0\n",
       "Constant     0\n",
       "Value       36\n",
       "Size        36\n",
       "dtype: int64"
      ]
     },
     "execution_count": 61,
     "metadata": {},
     "output_type": "execute_result"
    }
   ],
   "source": [
    "exp_var[\"Value\"] = fff.loc[\"1990\":\"2012-05\",['HML']]\n",
    "exp_var[\"Size\"] = fff.loc[\"1990\":\"2012-05\",['SMB']]\n",
    "exp_var.isnull().sum()"
   ]
  },
  {
   "cell_type": "code",
   "execution_count": 63,
   "metadata": {},
   "outputs": [],
   "source": [
    "exp_var = exp_var.fillna(0)"
   ]
  },
  {
   "cell_type": "code",
   "execution_count": 65,
   "metadata": {},
   "outputs": [
    {
     "data": {
      "text/html": [
       "<table class=\"simpletable\">\n",
       "<caption>OLS Regression Results</caption>\n",
       "<tr>\n",
       "  <th>Dep. Variable:</th>          <td>BRKA</td>       <th>  R-squared:         </th> <td>   0.295</td>\n",
       "</tr>\n",
       "<tr>\n",
       "  <th>Model:</th>                   <td>OLS</td>       <th>  Adj. R-squared:    </th> <td>   0.288</td>\n",
       "</tr>\n",
       "<tr>\n",
       "  <th>Method:</th>             <td>Least Squares</td>  <th>  F-statistic:       </th> <td>   42.05</td>\n",
       "</tr>\n",
       "<tr>\n",
       "  <th>Date:</th>             <td>Fri, 03 Jul 2020</td> <th>  Prob (F-statistic):</th> <td>1.00e-22</td>\n",
       "</tr>\n",
       "<tr>\n",
       "  <th>Time:</th>                 <td>18:18:16</td>     <th>  Log-Likelihood:    </th> <td>  481.00</td>\n",
       "</tr>\n",
       "<tr>\n",
       "  <th>No. Observations:</th>      <td>   305</td>      <th>  AIC:               </th> <td>  -954.0</td>\n",
       "</tr>\n",
       "<tr>\n",
       "  <th>Df Residuals:</th>          <td>   301</td>      <th>  BIC:               </th> <td>  -939.1</td>\n",
       "</tr>\n",
       "<tr>\n",
       "  <th>Df Model:</th>              <td>     3</td>      <th>                     </th>     <td> </td>   \n",
       "</tr>\n",
       "<tr>\n",
       "  <th>Covariance Type:</th>      <td>nonrobust</td>    <th>                     </th>     <td> </td>   \n",
       "</tr>\n",
       "</table>\n",
       "<table class=\"simpletable\">\n",
       "<tr>\n",
       "      <td></td>        <th>coef</th>     <th>std err</th>      <th>t</th>      <th>P>|t|</th>  <th>[0.025</th>    <th>0.975]</th>  \n",
       "</tr>\n",
       "<tr>\n",
       "  <th>Mkt-RF</th>   <td>    0.6856</td> <td>    0.069</td> <td>    9.971</td> <td> 0.000</td> <td>    0.550</td> <td>    0.821</td>\n",
       "</tr>\n",
       "<tr>\n",
       "  <th>Constant</th> <td>    0.0055</td> <td>    0.003</td> <td>    1.889</td> <td> 0.060</td> <td>   -0.000</td> <td>    0.011</td>\n",
       "</tr>\n",
       "<tr>\n",
       "  <th>Value</th>    <td>    0.3829</td> <td>    0.104</td> <td>    3.690</td> <td> 0.000</td> <td>    0.179</td> <td>    0.587</td>\n",
       "</tr>\n",
       "<tr>\n",
       "  <th>Size</th>     <td>   -0.5049</td> <td>    0.097</td> <td>   -5.230</td> <td> 0.000</td> <td>   -0.695</td> <td>   -0.315</td>\n",
       "</tr>\n",
       "</table>\n",
       "<table class=\"simpletable\">\n",
       "<tr>\n",
       "  <th>Omnibus:</th>       <td>51.213</td> <th>  Durbin-Watson:     </th> <td>   2.131</td>\n",
       "</tr>\n",
       "<tr>\n",
       "  <th>Prob(Omnibus):</th> <td> 0.000</td> <th>  Jarque-Bera (JB):  </th> <td>  91.983</td>\n",
       "</tr>\n",
       "<tr>\n",
       "  <th>Skew:</th>          <td> 0.924</td> <th>  Prob(JB):          </th> <td>1.06e-20</td>\n",
       "</tr>\n",
       "<tr>\n",
       "  <th>Kurtosis:</th>      <td> 4.954</td> <th>  Cond. No.          </th> <td>    39.5</td>\n",
       "</tr>\n",
       "</table><br/><br/>Warnings:<br/>[1] Standard Errors assume that the covariance matrix of the errors is correctly specified."
      ],
      "text/plain": [
       "<class 'statsmodels.iolib.summary.Summary'>\n",
       "\"\"\"\n",
       "                            OLS Regression Results                            \n",
       "==============================================================================\n",
       "Dep. Variable:                   BRKA   R-squared:                       0.295\n",
       "Model:                            OLS   Adj. R-squared:                  0.288\n",
       "Method:                 Least Squares   F-statistic:                     42.05\n",
       "Date:                Fri, 03 Jul 2020   Prob (F-statistic):           1.00e-22\n",
       "Time:                        18:18:16   Log-Likelihood:                 481.00\n",
       "No. Observations:                 305   AIC:                            -954.0\n",
       "Df Residuals:                     301   BIC:                            -939.1\n",
       "Df Model:                           3                                         \n",
       "Covariance Type:            nonrobust                                         \n",
       "==============================================================================\n",
       "                 coef    std err          t      P>|t|      [0.025      0.975]\n",
       "------------------------------------------------------------------------------\n",
       "Mkt-RF         0.6856      0.069      9.971      0.000       0.550       0.821\n",
       "Constant       0.0055      0.003      1.889      0.060      -0.000       0.011\n",
       "Value          0.3829      0.104      3.690      0.000       0.179       0.587\n",
       "Size          -0.5049      0.097     -5.230      0.000      -0.695      -0.315\n",
       "==============================================================================\n",
       "Omnibus:                       51.213   Durbin-Watson:                   2.131\n",
       "Prob(Omnibus):                  0.000   Jarque-Bera (JB):               91.983\n",
       "Skew:                           0.924   Prob(JB):                     1.06e-20\n",
       "Kurtosis:                       4.954   Cond. No.                         39.5\n",
       "==============================================================================\n",
       "\n",
       "Warnings:\n",
       "[1] Standard Errors assume that the covariance matrix of the errors is correctly specified.\n",
       "\"\"\""
      ]
     },
     "execution_count": 65,
     "metadata": {},
     "output_type": "execute_result"
    }
   ],
   "source": [
    "lm = sm.OLS(brka_excess, exp_var).fit()\n",
    "lm.summary()"
   ]
  },
  {
   "cell_type": "code",
   "execution_count": 66,
   "metadata": {},
   "outputs": [],
   "source": [
    "import statsmodels.api as sm\n",
    "def regress(dependent_variable, explanatory_variables, alpha=True):\n",
    "    \"\"\"\n",
    "    Runs a linear regression to decompose the dependent variable into the explanatory variables\n",
    "    returns an object of type statsmodel's RegressionResults on which you can call\n",
    "       .summary() to print a full summary\n",
    "       .params for the coefficients\n",
    "       .tvalues and .pvalues for the significance levels\n",
    "       .rsquared_adj and .rsquared for quality of fit\n",
    "    \"\"\"\n",
    "    if alpha:\n",
    "        explanatory_variables = explanatory_variables.copy()\n",
    "        explanatory_variables[\"Alpha\"] = 1\n",
    "\n",
    "    lm = sm.OLS(dependent_variable, explanatory_variables).fit()\n",
    "    return lm"
   ]
  },
  {
   "cell_type": "markdown",
   "metadata": {},
   "source": [
    "# Sharpe Style Analysis\n",
    "\n",
    "Build an optimizer that to find the weights that minimizes the square of the difference between the observed series and the returns of a benchmark portfolio that holds the explanatory building blocks in those same weights. This is equivalent to minimizing the tracking error between the two return series."
   ]
  },
  {
   "cell_type": "code",
   "execution_count": 98,
   "metadata": {},
   "outputs": [],
   "source": [
    "def tracking_error(r_a, r_b):\n",
    "    \n",
    "    return np.sqrt(((r_a-r_b)**2).sum())\n",
    "\n",
    "\n",
    "from scipy.optimize import minimize\n",
    "\n",
    "def style_analysis(dependent_variable, explanatory_variables):\n",
    "    \"\"\"\n",
    "    Returns the optimal weights that minimizes the Tracking error between\n",
    "    a portfolio of the explanatory variables and the dependent variable\n",
    "    \"\"\"\n",
    "    \n",
    "    n = explanatory_variables.shape[1]\n",
    "    init_guess = np.repeat(1/n, n)\n",
    "    bounds = ((0.0,1.0),)*n\n",
    "    \n",
    "    #constraints\n",
    "    weights_sum_to_1 = {'type': 'eq',\n",
    "                        'fun': lambda weights: np.sum(weights) -1 }\n",
    "    \n",
    "    solution = minimize(portfolio_tracking_error, init_guess,\n",
    "                        args=(dependent_variable, explanatory_variables,), \n",
    "                        method = 'SLSQP', options = {'disp': False},\n",
    "                        constraints = (weights_sum_to_1,), bounds=bounds)\n",
    "    weights = pd.Series(solution.x, index=explanatory_variables.columns)\n",
    "    \n",
    "    return weights\n",
    "\n",
    "def portfolio_tracking_error(weights, ref_r, bb_r):\n",
    "    \"\"\"\n",
    "    returns the tracking error between the reference returns\n",
    "    and a portfolio of building block returns held with given weights\n",
    "    \"\"\"\n",
    "    return tracking_error(ref_r, (weights*bb_r).sum(axis=1))\n",
    "    \n",
    "    "
   ]
  },
  {
   "cell_type": "code",
   "execution_count": 92,
   "metadata": {},
   "outputs": [],
   "source": [
    "#Construct a hypothetical portfolio \n",
    "ind = erk.get_ind_returns()['2000':]\n",
    "\n",
    "mgr_r = 0.3*ind['Beer']  + 0.5*ind['Smoke'] + 0.2*np.random.normal(scale=0.15/(12**.5), size=ind.shape[0])\n"
   ]
  },
  {
   "cell_type": "code",
   "execution_count": 93,
   "metadata": {},
   "outputs": [
    {
     "data": {
      "text/plain": [
       "2000-01   -0.049620\n",
       "2000-02   -0.042656\n",
       "2000-03    0.010403\n",
       "2000-04    0.026851\n",
       "2000-05    0.136225\n",
       "Freq: M, dtype: float64"
      ]
     },
     "execution_count": 93,
     "metadata": {},
     "output_type": "execute_result"
    }
   ],
   "source": [
    "mgr_r.head()"
   ]
  },
  {
   "cell_type": "code",
   "execution_count": 94,
   "metadata": {},
   "outputs": [
    {
     "data": {
      "text/html": [
       "<div>\n",
       "<style scoped>\n",
       "    .dataframe tbody tr th:only-of-type {\n",
       "        vertical-align: middle;\n",
       "    }\n",
       "\n",
       "    .dataframe tbody tr th {\n",
       "        vertical-align: top;\n",
       "    }\n",
       "\n",
       "    .dataframe thead th {\n",
       "        text-align: right;\n",
       "    }\n",
       "</style>\n",
       "<table border=\"1\" class=\"dataframe\">\n",
       "  <thead>\n",
       "    <tr style=\"text-align: right;\">\n",
       "      <th></th>\n",
       "      <th>Food</th>\n",
       "      <th>Beer</th>\n",
       "      <th>Smoke</th>\n",
       "      <th>Games</th>\n",
       "      <th>Books</th>\n",
       "      <th>Hshld</th>\n",
       "      <th>Clths</th>\n",
       "      <th>Hlth</th>\n",
       "      <th>Chems</th>\n",
       "      <th>Txtls</th>\n",
       "      <th>...</th>\n",
       "      <th>Telcm</th>\n",
       "      <th>Servs</th>\n",
       "      <th>BusEq</th>\n",
       "      <th>Paper</th>\n",
       "      <th>Trans</th>\n",
       "      <th>Whlsl</th>\n",
       "      <th>Rtail</th>\n",
       "      <th>Meals</th>\n",
       "      <th>Fin</th>\n",
       "      <th>Other</th>\n",
       "    </tr>\n",
       "  </thead>\n",
       "  <tbody>\n",
       "    <tr>\n",
       "      <th>2000-01</th>\n",
       "      <td>-0.0829</td>\n",
       "      <td>-0.0228</td>\n",
       "      <td>-0.0862</td>\n",
       "      <td>0.0229</td>\n",
       "      <td>-0.0092</td>\n",
       "      <td>-0.0651</td>\n",
       "      <td>-0.1138</td>\n",
       "      <td>0.0756</td>\n",
       "      <td>-0.0933</td>\n",
       "      <td>-0.0764</td>\n",
       "      <td>...</td>\n",
       "      <td>-0.0404</td>\n",
       "      <td>-0.0973</td>\n",
       "      <td>-0.0064</td>\n",
       "      <td>-0.0878</td>\n",
       "      <td>-0.0959</td>\n",
       "      <td>0.0899</td>\n",
       "      <td>-0.1453</td>\n",
       "      <td>-0.0739</td>\n",
       "      <td>-0.0442</td>\n",
       "      <td>-0.0412</td>\n",
       "    </tr>\n",
       "    <tr>\n",
       "      <th>2000-02</th>\n",
       "      <td>-0.0689</td>\n",
       "      <td>-0.1164</td>\n",
       "      <td>-0.0401</td>\n",
       "      <td>-0.0177</td>\n",
       "      <td>-0.0071</td>\n",
       "      <td>-0.1157</td>\n",
       "      <td>-0.1278</td>\n",
       "      <td>-0.0288</td>\n",
       "      <td>-0.0729</td>\n",
       "      <td>-0.0584</td>\n",
       "      <td>...</td>\n",
       "      <td>-0.0359</td>\n",
       "      <td>0.0759</td>\n",
       "      <td>0.2509</td>\n",
       "      <td>-0.1142</td>\n",
       "      <td>-0.0535</td>\n",
       "      <td>0.0113</td>\n",
       "      <td>-0.0393</td>\n",
       "      <td>-0.1203</td>\n",
       "      <td>-0.0849</td>\n",
       "      <td>-0.0061</td>\n",
       "    </tr>\n",
       "    <tr>\n",
       "      <th>2000-03</th>\n",
       "      <td>0.0969</td>\n",
       "      <td>0.0013</td>\n",
       "      <td>0.0511</td>\n",
       "      <td>0.1052</td>\n",
       "      <td>0.1293</td>\n",
       "      <td>-0.1426</td>\n",
       "      <td>0.2506</td>\n",
       "      <td>0.0028</td>\n",
       "      <td>0.1217</td>\n",
       "      <td>0.0535</td>\n",
       "      <td>...</td>\n",
       "      <td>0.0757</td>\n",
       "      <td>0.0269</td>\n",
       "      <td>0.0456</td>\n",
       "      <td>0.0836</td>\n",
       "      <td>0.1287</td>\n",
       "      <td>0.0659</td>\n",
       "      <td>0.1436</td>\n",
       "      <td>0.1598</td>\n",
       "      <td>0.1669</td>\n",
       "      <td>-0.0016</td>\n",
       "    </tr>\n",
       "    <tr>\n",
       "      <th>2000-04</th>\n",
       "      <td>-0.0390</td>\n",
       "      <td>0.0368</td>\n",
       "      <td>0.0379</td>\n",
       "      <td>0.0220</td>\n",
       "      <td>-0.0734</td>\n",
       "      <td>0.0429</td>\n",
       "      <td>0.0430</td>\n",
       "      <td>0.0525</td>\n",
       "      <td>-0.0373</td>\n",
       "      <td>0.0648</td>\n",
       "      <td>...</td>\n",
       "      <td>-0.0790</td>\n",
       "      <td>-0.1655</td>\n",
       "      <td>-0.0630</td>\n",
       "      <td>-0.0109</td>\n",
       "      <td>0.0348</td>\n",
       "      <td>-0.0107</td>\n",
       "      <td>-0.0560</td>\n",
       "      <td>0.0382</td>\n",
       "      <td>-0.0425</td>\n",
       "      <td>0.0819</td>\n",
       "    </tr>\n",
       "    <tr>\n",
       "      <th>2000-05</th>\n",
       "      <td>0.1565</td>\n",
       "      <td>0.1187</td>\n",
       "      <td>0.1951</td>\n",
       "      <td>0.0119</td>\n",
       "      <td>-0.0593</td>\n",
       "      <td>0.0279</td>\n",
       "      <td>-0.0504</td>\n",
       "      <td>0.0394</td>\n",
       "      <td>-0.0010</td>\n",
       "      <td>-0.0328</td>\n",
       "      <td>...</td>\n",
       "      <td>-0.1041</td>\n",
       "      <td>-0.0892</td>\n",
       "      <td>-0.1165</td>\n",
       "      <td>-0.0137</td>\n",
       "      <td>-0.0363</td>\n",
       "      <td>0.0193</td>\n",
       "      <td>-0.0304</td>\n",
       "      <td>-0.0421</td>\n",
       "      <td>0.0506</td>\n",
       "      <td>0.0531</td>\n",
       "    </tr>\n",
       "  </tbody>\n",
       "</table>\n",
       "<p>5 rows × 30 columns</p>\n",
       "</div>"
      ],
      "text/plain": [
       "           Food    Beer   Smoke   Games   Books   Hshld   Clths    Hlth  \\\n",
       "2000-01 -0.0829 -0.0228 -0.0862  0.0229 -0.0092 -0.0651 -0.1138  0.0756   \n",
       "2000-02 -0.0689 -0.1164 -0.0401 -0.0177 -0.0071 -0.1157 -0.1278 -0.0288   \n",
       "2000-03  0.0969  0.0013  0.0511  0.1052  0.1293 -0.1426  0.2506  0.0028   \n",
       "2000-04 -0.0390  0.0368  0.0379  0.0220 -0.0734  0.0429  0.0430  0.0525   \n",
       "2000-05  0.1565  0.1187  0.1951  0.0119 -0.0593  0.0279 -0.0504  0.0394   \n",
       "\n",
       "          Chems   Txtls  ...   Telcm   Servs   BusEq   Paper   Trans   Whlsl  \\\n",
       "2000-01 -0.0933 -0.0764  ... -0.0404 -0.0973 -0.0064 -0.0878 -0.0959  0.0899   \n",
       "2000-02 -0.0729 -0.0584  ... -0.0359  0.0759  0.2509 -0.1142 -0.0535  0.0113   \n",
       "2000-03  0.1217  0.0535  ...  0.0757  0.0269  0.0456  0.0836  0.1287  0.0659   \n",
       "2000-04 -0.0373  0.0648  ... -0.0790 -0.1655 -0.0630 -0.0109  0.0348 -0.0107   \n",
       "2000-05 -0.0010 -0.0328  ... -0.1041 -0.0892 -0.1165 -0.0137 -0.0363  0.0193   \n",
       "\n",
       "          Rtail   Meals     Fin   Other  \n",
       "2000-01 -0.1453 -0.0739 -0.0442 -0.0412  \n",
       "2000-02 -0.0393 -0.1203 -0.0849 -0.0061  \n",
       "2000-03  0.1436  0.1598  0.1669 -0.0016  \n",
       "2000-04 -0.0560  0.0382 -0.0425  0.0819  \n",
       "2000-05 -0.0304 -0.0421  0.0506  0.0531  \n",
       "\n",
       "[5 rows x 30 columns]"
      ]
     },
     "execution_count": 94,
     "metadata": {},
     "output_type": "execute_result"
    }
   ],
   "source": [
    "ind.head()"
   ]
  },
  {
   "cell_type": "code",
   "execution_count": 99,
   "metadata": {},
   "outputs": [],
   "source": [
    "weights = style_analysis(mgr_r, ind)"
   ]
  },
  {
   "cell_type": "code",
   "execution_count": 103,
   "metadata": {},
   "outputs": [
    {
     "data": {
      "text/plain": [
       "<matplotlib.axes._subplots.AxesSubplot at 0x1f9c3bd97b8>"
      ]
     },
     "execution_count": 103,
     "metadata": {},
     "output_type": "execute_result"
    },
    {
     "data": {
      "image/png": "[encoded data removed]",
      "text/plain": [
       "<Figure size 432x288 with 1 Axes>"
      ]
     },
     "metadata": {
      "needs_background": "light"
     },
     "output_type": "display_data"
    }
   ],
   "source": [
    "weights.sort_values(ascending=False).head(6).plot.bar()"
   ]
  },
  {
   "cell_type": "code",
   "execution_count": 106,
   "metadata": {},
   "outputs": [],
   "source": [
    "ind_ew = erk.get_ind_returns(ew=True)\n",
    "ind_cw = erk.get_ind_returns(ew=False)"
   ]
  },
  {
   "cell_type": "code",
   "execution_count": 112,
   "metadata": {},
   "outputs": [],
   "source": [
    "sr = pd.DataFrame({'EW' : erk.sharpe_ratio(ind_ew, 0.03, 12),\n",
    "                   'CW' : erk.sharpe_ratio(ind_cw, 0.03, 12)})"
   ]
  },
  {
   "cell_type": "code",
   "execution_count": 171,
   "metadata": {},
   "outputs": [
    {
     "data": {
      "text/plain": [
       "<matplotlib.axes._subplots.AxesSubplot at 0x1f9c8d2a9b0>"
      ]
     },
     "execution_count": 171,
     "metadata": {},
     "output_type": "execute_result"
    },
    {
     "data": {
      "image/png": "[encoded data removed]",
      "text/plain": [
       "<Figure size 1152x360 with 1 Axes>"
      ]
     },
     "metadata": {
      "needs_background": "light"
     },
     "output_type": "display_data"
    }
   ],
   "source": [
    "sr.plot.bar(figsize=(16,5), title='Sharpe Ratio: Equally Weighted vs Cap Weighted across industries')"
   ]
  },
  {
   "cell_type": "code",
   "execution_count": 114,
   "metadata": {},
   "outputs": [
    {
     "data": {
      "text/plain": [
       "56.666666666666664"
      ]
     },
     "execution_count": 114,
     "metadata": {},
     "output_type": "execute_result"
    }
   ],
   "source": [
    "(sr['EW'] > sr['CW']).sum()*100/sr.shape[0]"
   ]
  },
  {
   "cell_type": "code",
   "execution_count": 116,
   "metadata": {},
   "outputs": [
    {
     "data": {
      "text/plain": [
       "Text(0.5, 1.0, 'Average Trailing 5 year Sharpe Ratio across 30 Industry Portfolios 1945-2018')"
      ]
     },
     "execution_count": 116,
     "metadata": {},
     "output_type": "execute_result"
    },
    {
     "data": {
      "image/png": "[encoded data removed]",
      "text/plain": [
       "<Figure size 864x360 with 1 Axes>"
      ]
     },
     "metadata": {
      "needs_background": "light"
     },
     "output_type": "display_data"
    }
   ],
   "source": [
    "ax = ind_cw.rolling('1825D').apply(erk.sharpe_ratio, raw=True, kwargs={\"riskfree_rate\":0.03, \"periods_per_year\":12}).mean(axis=1)[\"1945\":].plot(figsize=(12,5), label=\"CW\", legend=True)\n",
    "ind_ew.rolling('1825D').apply(erk.sharpe_ratio, raw=True, kwargs={\"riskfree_rate\":0.03, \"periods_per_year\":12}).mean(axis=1)[\"1945\":].plot(ax=ax, label=\"EW\", legend=True)\n",
    "ax.set_title(\"Average Trailing 5 year Sharpe Ratio across 30 Industry Portfolios 1945-2018\")"
   ]
  },
  {
   "cell_type": "markdown",
   "metadata": {},
   "source": [
    "# Backtesting: EW vs CW\n"
   ]
  },
  {
   "cell_type": "code",
   "execution_count": 117,
   "metadata": {},
   "outputs": [],
   "source": [
    "ind49_rets = erk.get_ind_returns(weighting=\"vw\", n_inds=49)[\"1974\":]\n",
    "ind49_mcap = erk.get_ind_market_caps(49, weights=True)[\"1974\":]"
   ]
  },
  {
   "cell_type": "code",
   "execution_count": 119,
   "metadata": {},
   "outputs": [
    {
     "data": {
      "text/html": [
       "<div>\n",
       "<style scoped>\n",
       "    .dataframe tbody tr th:only-of-type {\n",
       "        vertical-align: middle;\n",
       "    }\n",
       "\n",
       "    .dataframe tbody tr th {\n",
       "        vertical-align: top;\n",
       "    }\n",
       "\n",
       "    .dataframe thead th {\n",
       "        text-align: right;\n",
       "    }\n",
       "</style>\n",
       "<table border=\"1\" class=\"dataframe\">\n",
       "  <thead>\n",
       "    <tr style=\"text-align: right;\">\n",
       "      <th></th>\n",
       "      <th>Agric</th>\n",
       "      <th>Food</th>\n",
       "      <th>Soda</th>\n",
       "      <th>Beer</th>\n",
       "      <th>Smoke</th>\n",
       "      <th>Toys</th>\n",
       "      <th>Fun</th>\n",
       "      <th>Books</th>\n",
       "      <th>Hshld</th>\n",
       "      <th>Clths</th>\n",
       "      <th>...</th>\n",
       "      <th>Boxes</th>\n",
       "      <th>Trans</th>\n",
       "      <th>Whlsl</th>\n",
       "      <th>Rtail</th>\n",
       "      <th>Meals</th>\n",
       "      <th>Banks</th>\n",
       "      <th>Insur</th>\n",
       "      <th>RlEst</th>\n",
       "      <th>Fin</th>\n",
       "      <th>Other</th>\n",
       "    </tr>\n",
       "  </thead>\n",
       "  <tbody>\n",
       "    <tr>\n",
       "      <th>1974-01</th>\n",
       "      <td>0.0229</td>\n",
       "      <td>0.0615</td>\n",
       "      <td>-0.0540</td>\n",
       "      <td>-0.0083</td>\n",
       "      <td>0.0301</td>\n",
       "      <td>0.0899</td>\n",
       "      <td>0.0858</td>\n",
       "      <td>-0.0101</td>\n",
       "      <td>-0.0260</td>\n",
       "      <td>0.0965</td>\n",
       "      <td>...</td>\n",
       "      <td>0.0050</td>\n",
       "      <td>0.0048</td>\n",
       "      <td>0.0552</td>\n",
       "      <td>0.0776</td>\n",
       "      <td>0.0144</td>\n",
       "      <td>0.0014</td>\n",
       "      <td>-0.0162</td>\n",
       "      <td>0.1311</td>\n",
       "      <td>0.0083</td>\n",
       "      <td>0.0102</td>\n",
       "    </tr>\n",
       "    <tr>\n",
       "      <th>1974-02</th>\n",
       "      <td>0.1382</td>\n",
       "      <td>0.0140</td>\n",
       "      <td>-0.0236</td>\n",
       "      <td>-0.0174</td>\n",
       "      <td>0.0185</td>\n",
       "      <td>-0.0257</td>\n",
       "      <td>-0.0032</td>\n",
       "      <td>-0.0528</td>\n",
       "      <td>-0.0342</td>\n",
       "      <td>0.0230</td>\n",
       "      <td>...</td>\n",
       "      <td>0.0156</td>\n",
       "      <td>0.0787</td>\n",
       "      <td>0.0239</td>\n",
       "      <td>0.0137</td>\n",
       "      <td>-0.0477</td>\n",
       "      <td>0.0165</td>\n",
       "      <td>-0.0219</td>\n",
       "      <td>-0.0249</td>\n",
       "      <td>0.0129</td>\n",
       "      <td>-0.0100</td>\n",
       "    </tr>\n",
       "    <tr>\n",
       "      <th>1974-03</th>\n",
       "      <td>-0.0157</td>\n",
       "      <td>-0.0156</td>\n",
       "      <td>-0.0406</td>\n",
       "      <td>-0.0220</td>\n",
       "      <td>-0.0600</td>\n",
       "      <td>0.0517</td>\n",
       "      <td>0.0361</td>\n",
       "      <td>0.0579</td>\n",
       "      <td>-0.0023</td>\n",
       "      <td>-0.0158</td>\n",
       "      <td>...</td>\n",
       "      <td>-0.0151</td>\n",
       "      <td>-0.0485</td>\n",
       "      <td>0.0159</td>\n",
       "      <td>-0.0452</td>\n",
       "      <td>0.0373</td>\n",
       "      <td>-0.0438</td>\n",
       "      <td>-0.0453</td>\n",
       "      <td>-0.0216</td>\n",
       "      <td>-0.0399</td>\n",
       "      <td>-0.0306</td>\n",
       "    </tr>\n",
       "    <tr>\n",
       "      <th>1974-04</th>\n",
       "      <td>-0.0926</td>\n",
       "      <td>-0.0265</td>\n",
       "      <td>-0.0415</td>\n",
       "      <td>-0.0366</td>\n",
       "      <td>-0.0277</td>\n",
       "      <td>-0.0749</td>\n",
       "      <td>-0.0796</td>\n",
       "      <td>-0.0646</td>\n",
       "      <td>-0.0419</td>\n",
       "      <td>-0.0477</td>\n",
       "      <td>...</td>\n",
       "      <td>-0.0269</td>\n",
       "      <td>-0.0393</td>\n",
       "      <td>-0.0194</td>\n",
       "      <td>-0.0206</td>\n",
       "      <td>-0.0296</td>\n",
       "      <td>-0.0510</td>\n",
       "      <td>-0.0919</td>\n",
       "      <td>-0.1227</td>\n",
       "      <td>-0.0684</td>\n",
       "      <td>-0.0535</td>\n",
       "    </tr>\n",
       "    <tr>\n",
       "      <th>1974-05</th>\n",
       "      <td>-0.0703</td>\n",
       "      <td>-0.0488</td>\n",
       "      <td>-0.0115</td>\n",
       "      <td>-0.0448</td>\n",
       "      <td>0.0559</td>\n",
       "      <td>0.0238</td>\n",
       "      <td>-0.0089</td>\n",
       "      <td>-0.0133</td>\n",
       "      <td>0.0102</td>\n",
       "      <td>-0.0691</td>\n",
       "      <td>...</td>\n",
       "      <td>-0.0130</td>\n",
       "      <td>-0.0469</td>\n",
       "      <td>-0.0390</td>\n",
       "      <td>0.0220</td>\n",
       "      <td>-0.0305</td>\n",
       "      <td>-0.1089</td>\n",
       "      <td>-0.0882</td>\n",
       "      <td>-0.1146</td>\n",
       "      <td>-0.0998</td>\n",
       "      <td>-0.0677</td>\n",
       "    </tr>\n",
       "  </tbody>\n",
       "</table>\n",
       "<p>5 rows × 49 columns</p>\n",
       "</div>"
      ],
      "text/plain": [
       "          Agric    Food    Soda    Beer   Smoke    Toys     Fun   Books  \\\n",
       "1974-01  0.0229  0.0615 -0.0540 -0.0083  0.0301  0.0899  0.0858 -0.0101   \n",
       "1974-02  0.1382  0.0140 -0.0236 -0.0174  0.0185 -0.0257 -0.0032 -0.0528   \n",
       "1974-03 -0.0157 -0.0156 -0.0406 -0.0220 -0.0600  0.0517  0.0361  0.0579   \n",
       "1974-04 -0.0926 -0.0265 -0.0415 -0.0366 -0.0277 -0.0749 -0.0796 -0.0646   \n",
       "1974-05 -0.0703 -0.0488 -0.0115 -0.0448  0.0559  0.0238 -0.0089 -0.0133   \n",
       "\n",
       "          Hshld   Clths  ...   Boxes   Trans   Whlsl   Rtail   Meals   Banks  \\\n",
       "1974-01 -0.0260  0.0965  ...  0.0050  0.0048  0.0552  0.0776  0.0144  0.0014   \n",
       "1974-02 -0.0342  0.0230  ...  0.0156  0.0787  0.0239  0.0137 -0.0477  0.0165   \n",
       "1974-03 -0.0023 -0.0158  ... -0.0151 -0.0485  0.0159 -0.0452  0.0373 -0.0438   \n",
       "1974-04 -0.0419 -0.0477  ... -0.0269 -0.0393 -0.0194 -0.0206 -0.0296 -0.0510   \n",
       "1974-05  0.0102 -0.0691  ... -0.0130 -0.0469 -0.0390  0.0220 -0.0305 -0.1089   \n",
       "\n",
       "          Insur   RlEst     Fin   Other  \n",
       "1974-01 -0.0162  0.1311  0.0083  0.0102  \n",
       "1974-02 -0.0219 -0.0249  0.0129 -0.0100  \n",
       "1974-03 -0.0453 -0.0216 -0.0399 -0.0306  \n",
       "1974-04 -0.0919 -0.1227 -0.0684 -0.0535  \n",
       "1974-05 -0.0882 -0.1146 -0.0998 -0.0677  \n",
       "\n",
       "[5 rows x 49 columns]"
      ]
     },
     "execution_count": 119,
     "metadata": {},
     "output_type": "execute_result"
    }
   ],
   "source": [
    "ind49_rets.head()"
   ]
  },
  {
   "cell_type": "code",
   "execution_count": 160,
   "metadata": {},
   "outputs": [],
   "source": [
    "def weight_ew(r):\n",
    "    \n",
    "    n = len(r.columns)\n",
    "    return pd.Series(1/n, index=r.columns)\n",
    "\n",
    "def backtest_ws(r, estimation_window=60, weighting=weight_ew, **kwargs):\n",
    "    n_periods = r.shape[0]\n",
    "    windows = [(start, start+estimation_window) for start in range(n_periods-estimation_window+1)]\n",
    "    \n",
    "    weights = [weighting(r.iloc[win[0]:win[1]], **kwargs) for win in windows]\n",
    "    weights = pd.DataFrame(weights, index=r.iloc[estimation_window-1:].index, columns=r.columns)\n",
    "    returns = (weights * r).sum(axis=\"columns\",  min_count=1) #mincount is to generate NAs if all inputs are NAs\n",
    "    return returns\n",
    "    "
   ]
  },
  {
   "cell_type": "code",
   "execution_count": 170,
   "metadata": {},
   "outputs": [
    {
     "data": {
      "image/png": "[encoded data removed]",
      "text/plain": [
       "<Figure size 1152x360 with 1 Axes>"
      ]
     },
     "metadata": {
      "needs_background": "light"
     },
     "output_type": "display_data"
    }
   ],
   "source": [
    "ewr = backtest_ws(ind49_rets, weighting=weight_ew)\n",
    "ewi = (1+ewr).cumprod()\n",
    "ewi.plot(figsize=(16,5), title=\"49 Industries - Equally Weighted\");"
   ]
  },
  {
   "cell_type": "code",
   "execution_count": 164,
   "metadata": {},
   "outputs": [],
   "source": [
    "def weight_cw(r, cap_weights, **kwargs):\n",
    "    \"\"\"\n",
    "    Returns the weights of the CW portfolio based on the time series of capweights\n",
    "    \"\"\"\n",
    "    return cap_weights.loc[r.index[0]]\n",
    "\n"
   ]
  },
  {
   "cell_type": "code",
   "execution_count": 169,
   "metadata": {},
   "outputs": [
    {
     "data": {
      "image/png": "[encoded data removed]",
      "text/plain": [
       "<Figure size 1152x360 with 1 Axes>"
      ]
     },
     "metadata": {
      "needs_background": "light"
     },
     "output_type": "display_data"
    }
   ],
   "source": [
    "ewr = backtest_ws(ind49_rets)\n",
    "cwr = backtest_ws(ind49_rets, weighting=weight_cw, cap_weights=ind49_mcap)\n",
    "btr = pd.DataFrame({'EW': ewr,\n",
    "                    'CW': cwr})\n",
    "(1+btr).cumprod().plot(figsize=(16,5), title=\"49 Industries - CapWeighted vs Equally Weighted\");"
   ]
  },
  {
   "cell_type": "code",
   "execution_count": 163,
   "metadata": {},
   "outputs": [
    {
     "data": {
      "text/plain": [
       "PeriodIndex(['1974-01', '1974-02', '1974-03', '1974-04', '1974-05', '1974-06',\n",
       "             '1974-07', '1974-08', '1974-09', '1974-10',\n",
       "             ...\n",
       "             '2018-03', '2018-04', '2018-05', '2018-06', '2018-07', '2018-08',\n",
       "             '2018-09', '2018-10', '2018-11', '2018-12'],\n",
       "            dtype='period[M]', length=540, freq='M')"
      ]
     },
     "execution_count": 163,
     "metadata": {},
     "output_type": "execute_result"
    }
   ],
   "source": []
  },
  {
   "cell_type": "markdown",
   "metadata": {},
   "source": [
    "# Improving EW with CapWeight Tethering\n",
    "\n",
    "Often in practice, we'll want to implement some sort of a modification of a pure strategy. For instance, although Equal Weight portfolios are popular, they'll be constrained in some way - for instance to match the sector weights of the cap-weighted benchmark or to make sure that microcap stocks are not overweighted. The motivation for doing so could be to make a portfolio more tradeable (e.g. some microcaps may not have the liquidity) or to improve the tracking error to the Cap-Weighted index.\n",
    "\n",
    "As an illustration of how that can be achieved, we enhance our simple `weight_ew` allocator to (i) drop microcap stocks beyond a particular threshold, and (ii) impose a constraint that ensures that the maximum weight assigned to any stock is no more than some multiple of the weight it would be in a cap-weighted portfolio.\n"
   ]
  },
  {
   "cell_type": "code",
   "execution_count": 172,
   "metadata": {},
   "outputs": [],
   "source": [
    "def weight_ew(r, cap_weights=None, max_cw_mult=None, microcap_threshold=None, **kwargs):\n",
    "    \n",
    "    n = len(r.columns)\n",
    "    ew = pd.Series(1/n, index=r.columns)\n",
    "    if cap_weights is not None:\n",
    "        cw= cap_weights.loc[r.index[0]]\n",
    "        if microcap_threshold is not None and microcap_threshold >0:\n",
    "            microcap = cw < microcap_threshold\n",
    "            ew[microcap] = 0\n",
    "            ew = ew/ew.sum()\n",
    "        if max_cw_mult is not None and max_cw_mult >0:\n",
    "            ew = np.minimum(ew, max_cw_mult*cw)\n",
    "            ew = ew/ew.sum()\n",
    "    return ew\n",
    "    \n",
    "\n",
    "def backtest_ws(r, estimation_window=60, weighting=weight_ew, **kwargs):\n",
    "    n_periods = r.shape[0]\n",
    "    windows = [(start, start+estimation_window) for start in range(n_periods-estimation_window+1)]\n",
    "    \n",
    "    weights = [weighting(r.iloc[win[0]:win[1]], **kwargs) for win in windows]\n",
    "    weights = pd.DataFrame(weights, index=r.iloc[estimation_window-1:].index, columns=r.columns)\n",
    "    returns = (weights * r).sum(axis=\"columns\",  min_count=1) #mincount is to generate NAs if all inputs are NAs\n",
    "    return returns\n",
    "\n",
    "def weight_cw(r, cap_weights, **kwargs):\n",
    "    \"\"\"\n",
    "    Returns the weights of the CW portfolio based on the time series of capweights\n",
    "    \"\"\"\n",
    "    w = cap_weights.loc[r.index[0]]\n",
    "    return w/w.sum()\n",
    "\n",
    "\n",
    "    "
   ]
  },
  {
   "cell_type": "code",
   "execution_count": 173,
   "metadata": {},
   "outputs": [
    {
     "data": {
      "text/html": [
       "<div>\n",
       "<style scoped>\n",
       "    .dataframe tbody tr th:only-of-type {\n",
       "        vertical-align: middle;\n",
       "    }\n",
       "\n",
       "    .dataframe tbody tr th {\n",
       "        vertical-align: top;\n",
       "    }\n",
       "\n",
       "    .dataframe thead th {\n",
       "        text-align: right;\n",
       "    }\n",
       "</style>\n",
       "<table border=\"1\" class=\"dataframe\">\n",
       "  <thead>\n",
       "    <tr style=\"text-align: right;\">\n",
       "      <th></th>\n",
       "      <th>Annualized Return</th>\n",
       "      <th>Annualized Vol</th>\n",
       "      <th>Skewness</th>\n",
       "      <th>Kurtosis</th>\n",
       "      <th>Cornish-Fisher VaR (5%)</th>\n",
       "      <th>Historic CVaR (5%)</th>\n",
       "      <th>Sharpe Ratio</th>\n",
       "      <th>Max Drawdown</th>\n",
       "    </tr>\n",
       "  </thead>\n",
       "  <tbody>\n",
       "    <tr>\n",
       "      <th>EW</th>\n",
       "      <td>0.123921</td>\n",
       "      <td>0.160660</td>\n",
       "      <td>-0.759092</td>\n",
       "      <td>6.659028</td>\n",
       "      <td>0.071404</td>\n",
       "      <td>0.102331</td>\n",
       "      <td>0.568799</td>\n",
       "      <td>-0.528292</td>\n",
       "    </tr>\n",
       "    <tr>\n",
       "      <th>EW-Tethered</th>\n",
       "      <td>0.125572</td>\n",
       "      <td>0.156923</td>\n",
       "      <td>-0.752967</td>\n",
       "      <td>6.187433</td>\n",
       "      <td>0.069778</td>\n",
       "      <td>0.099191</td>\n",
       "      <td>0.592597</td>\n",
       "      <td>-0.530654</td>\n",
       "    </tr>\n",
       "    <tr>\n",
       "      <th>CW</th>\n",
       "      <td>0.120165</td>\n",
       "      <td>0.147544</td>\n",
       "      <td>-0.717960</td>\n",
       "      <td>5.562648</td>\n",
       "      <td>0.065636</td>\n",
       "      <td>0.093769</td>\n",
       "      <td>0.594625</td>\n",
       "      <td>-0.515999</td>\n",
       "    </tr>\n",
       "  </tbody>\n",
       "</table>\n",
       "</div>"
      ],
      "text/plain": [
       "             Annualized Return  Annualized Vol  Skewness  Kurtosis  \\\n",
       "EW                    0.123921        0.160660 -0.759092  6.659028   \n",
       "EW-Tethered           0.125572        0.156923 -0.752967  6.187433   \n",
       "CW                    0.120165        0.147544 -0.717960  5.562648   \n",
       "\n",
       "             Cornish-Fisher VaR (5%)  Historic CVaR (5%)  Sharpe Ratio  \\\n",
       "EW                          0.071404            0.102331      0.568799   \n",
       "EW-Tethered                 0.069778            0.099191      0.592597   \n",
       "CW                          0.065636            0.093769      0.594625   \n",
       "\n",
       "             Max Drawdown  \n",
       "EW              -0.528292  \n",
       "EW-Tethered     -0.530654  \n",
       "CW              -0.515999  "
      ]
     },
     "execution_count": 173,
     "metadata": {},
     "output_type": "execute_result"
    },
    {
     "data": {
      "image/png": "[encoded data removed]",
      "text/plain": [
       "<Figure size 864x360 with 1 Axes>"
      ]
     },
     "metadata": {
      "needs_background": "light"
     },
     "output_type": "display_data"
    }
   ],
   "source": [
    "ewr = backtest_ws(ind49_rets)\n",
    "ewtr = backtest_ws(ind49_rets, cap_weights=ind49_mcap, max_cw_mult=5, microcap_threshold=.005)\n",
    "cwr = backtest_ws(ind49_rets, weighting=weight_cw, cap_weights=ind49_mcap)\n",
    "btr = pd.DataFrame({\"EW\": ewr, \"EW-Tethered\": ewtr, \"CW\": cwr})\n",
    "(1+btr).cumprod().plot(figsize=(12,5))\n",
    "erk.summary_stats(btr.dropna())"
   ]
  },
  {
   "cell_type": "code",
   "execution_count": null,
   "metadata": {},
   "outputs": [],
   "source": []
  }
 ],
 "metadata": {
  "kernelspec": {
   "display_name": "Python 3",
   "language": "python",
   "name": "python3"
  },
  "language_info": {
   "codemirror_mode": {
    "name": "ipython",
    "version": 3
   },
   "file_extension": ".py",
   "mimetype": "text/x-python",
   "name": "python",
   "nbconvert_exporter": "python",
   "pygments_lexer": "ipython3",
   "version": "3.7.3"
  }
 },
 "nbformat": 4,
 "nbformat_minor": 2
}
